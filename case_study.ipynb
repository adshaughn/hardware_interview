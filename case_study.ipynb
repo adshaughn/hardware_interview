{
 "cells": [
  {
   "metadata": {},
   "cell_type": "markdown",
   "source": "# Hardware Insights Case Study",
   "id": "b6af3aca7685322b"
  },
  {
   "metadata": {},
   "cell_type": "markdown",
   "source": "### Imports and Setup",
   "id": "210f489953d35c0e"
  },
  {
   "metadata": {
    "ExecuteTime": {
     "end_time": "2024-09-05T19:01:46.816495Z",
     "start_time": "2024-09-05T19:01:46.814211Z"
    }
   },
   "cell_type": "code",
   "source": [
    "# imports\n",
    "import pandas as pd\n",
    "import numpy as np\n",
    "import plotly.express as px\n",
    "import matplotlib.pyplot as plt\n",
    "from sklearn.ensemble import IsolationForest\n",
    "from sklearn.ensemble import RandomForestClassifier\n",
    "from sklearn.preprocessing import StandardScaler\n",
    "from sklearn.model_selection import train_test_split\n",
    "from sklearn.metrics import classification_report\n",
    "from sklearn.cluster import KMeans\n",
    "from sklearn.decomposition import PCA\n",
    "from scipy import stats"
   ],
   "id": "c67e965cbf948c98",
   "outputs": [],
   "execution_count": 170
  },
  {
   "metadata": {
    "ExecuteTime": {
     "end_time": "2024-09-05T19:01:46.889596Z",
     "start_time": "2024-09-05T19:01:46.844296Z"
    }
   },
   "cell_type": "code",
   "source": [
    "# import csvs\n",
    "\n",
    "issues_df = pd.read_csv('dataset/issue_data.csv')\n",
    "sales_df = pd.read_csv('dataset/sales_data.csv')"
   ],
   "id": "1ef5b0a70b9ef198",
   "outputs": [],
   "execution_count": 171
  },
  {
   "metadata": {
    "ExecuteTime": {
     "end_time": "2024-09-05T19:01:46.921041Z",
     "start_time": "2024-09-05T19:01:46.917110Z"
    }
   },
   "cell_type": "code",
   "source": [
    "# check imported dfs\n",
    "issues_df.head()"
   ],
   "id": "f5cde291ca7780b5",
   "outputs": [
    {
     "data": {
      "text/plain": [
       "  VEHICLE_MODEL CUSTOMER_REGION MANUFACTURING_CITY  \\\n",
       "0           HL5        Americas            Detroit   \n",
       "1           HL5        Americas            Detroit   \n",
       "2           HL5        Americas            Detroit   \n",
       "3           HL5        Americas            Detroit   \n",
       "4           HL5        Americas            Detroit   \n",
       "\n",
       "                   CUSTOMER_ISSUE        WEEK  ISSUE_COUNT  \n",
       "0  Air Conditioning/Heating Issue  2022-07-03            1  \n",
       "1  Air Conditioning/Heating Issue  2022-07-10            1  \n",
       "2  Air Conditioning/Heating Issue  2022-07-17            1  \n",
       "3  Air Conditioning/Heating Issue  2022-07-24            1  \n",
       "4  Air Conditioning/Heating Issue  2022-08-14            2  "
      ],
      "text/html": [
       "<div>\n",
       "<style scoped>\n",
       "    .dataframe tbody tr th:only-of-type {\n",
       "        vertical-align: middle;\n",
       "    }\n",
       "\n",
       "    .dataframe tbody tr th {\n",
       "        vertical-align: top;\n",
       "    }\n",
       "\n",
       "    .dataframe thead th {\n",
       "        text-align: right;\n",
       "    }\n",
       "</style>\n",
       "<table border=\"1\" class=\"dataframe\">\n",
       "  <thead>\n",
       "    <tr style=\"text-align: right;\">\n",
       "      <th></th>\n",
       "      <th>VEHICLE_MODEL</th>\n",
       "      <th>CUSTOMER_REGION</th>\n",
       "      <th>MANUFACTURING_CITY</th>\n",
       "      <th>CUSTOMER_ISSUE</th>\n",
       "      <th>WEEK</th>\n",
       "      <th>ISSUE_COUNT</th>\n",
       "    </tr>\n",
       "  </thead>\n",
       "  <tbody>\n",
       "    <tr>\n",
       "      <th>0</th>\n",
       "      <td>HL5</td>\n",
       "      <td>Americas</td>\n",
       "      <td>Detroit</td>\n",
       "      <td>Air Conditioning/Heating Issue</td>\n",
       "      <td>2022-07-03</td>\n",
       "      <td>1</td>\n",
       "    </tr>\n",
       "    <tr>\n",
       "      <th>1</th>\n",
       "      <td>HL5</td>\n",
       "      <td>Americas</td>\n",
       "      <td>Detroit</td>\n",
       "      <td>Air Conditioning/Heating Issue</td>\n",
       "      <td>2022-07-10</td>\n",
       "      <td>1</td>\n",
       "    </tr>\n",
       "    <tr>\n",
       "      <th>2</th>\n",
       "      <td>HL5</td>\n",
       "      <td>Americas</td>\n",
       "      <td>Detroit</td>\n",
       "      <td>Air Conditioning/Heating Issue</td>\n",
       "      <td>2022-07-17</td>\n",
       "      <td>1</td>\n",
       "    </tr>\n",
       "    <tr>\n",
       "      <th>3</th>\n",
       "      <td>HL5</td>\n",
       "      <td>Americas</td>\n",
       "      <td>Detroit</td>\n",
       "      <td>Air Conditioning/Heating Issue</td>\n",
       "      <td>2022-07-24</td>\n",
       "      <td>1</td>\n",
       "    </tr>\n",
       "    <tr>\n",
       "      <th>4</th>\n",
       "      <td>HL5</td>\n",
       "      <td>Americas</td>\n",
       "      <td>Detroit</td>\n",
       "      <td>Air Conditioning/Heating Issue</td>\n",
       "      <td>2022-08-14</td>\n",
       "      <td>2</td>\n",
       "    </tr>\n",
       "  </tbody>\n",
       "</table>\n",
       "</div>"
      ]
     },
     "execution_count": 172,
     "metadata": {},
     "output_type": "execute_result"
    }
   ],
   "execution_count": 172
  },
  {
   "metadata": {
    "ExecuteTime": {
     "end_time": "2024-09-05T19:01:46.965717Z",
     "start_time": "2024-09-05T19:01:46.962097Z"
    }
   },
   "cell_type": "code",
   "source": "sales_df.head()",
   "id": "255464f03bd2e80",
   "outputs": [
    {
     "data": {
      "text/plain": [
       "  VEHICLE_MODEL CUSTOMER_REGION MANUFACTURING_CITY  VEHICLES_SOLD_COUNT\n",
       "0           HL5        Americas            Detroit                61282\n",
       "1           HL5        Americas             Munich               150906\n",
       "2           HL5        Americas              Tokyo               922086\n",
       "3           HL5            Asia            Detroit                17217\n",
       "4           HL5            Asia             Munich               142913"
      ],
      "text/html": [
       "<div>\n",
       "<style scoped>\n",
       "    .dataframe tbody tr th:only-of-type {\n",
       "        vertical-align: middle;\n",
       "    }\n",
       "\n",
       "    .dataframe tbody tr th {\n",
       "        vertical-align: top;\n",
       "    }\n",
       "\n",
       "    .dataframe thead th {\n",
       "        text-align: right;\n",
       "    }\n",
       "</style>\n",
       "<table border=\"1\" class=\"dataframe\">\n",
       "  <thead>\n",
       "    <tr style=\"text-align: right;\">\n",
       "      <th></th>\n",
       "      <th>VEHICLE_MODEL</th>\n",
       "      <th>CUSTOMER_REGION</th>\n",
       "      <th>MANUFACTURING_CITY</th>\n",
       "      <th>VEHICLES_SOLD_COUNT</th>\n",
       "    </tr>\n",
       "  </thead>\n",
       "  <tbody>\n",
       "    <tr>\n",
       "      <th>0</th>\n",
       "      <td>HL5</td>\n",
       "      <td>Americas</td>\n",
       "      <td>Detroit</td>\n",
       "      <td>61282</td>\n",
       "    </tr>\n",
       "    <tr>\n",
       "      <th>1</th>\n",
       "      <td>HL5</td>\n",
       "      <td>Americas</td>\n",
       "      <td>Munich</td>\n",
       "      <td>150906</td>\n",
       "    </tr>\n",
       "    <tr>\n",
       "      <th>2</th>\n",
       "      <td>HL5</td>\n",
       "      <td>Americas</td>\n",
       "      <td>Tokyo</td>\n",
       "      <td>922086</td>\n",
       "    </tr>\n",
       "    <tr>\n",
       "      <th>3</th>\n",
       "      <td>HL5</td>\n",
       "      <td>Asia</td>\n",
       "      <td>Detroit</td>\n",
       "      <td>17217</td>\n",
       "    </tr>\n",
       "    <tr>\n",
       "      <th>4</th>\n",
       "      <td>HL5</td>\n",
       "      <td>Asia</td>\n",
       "      <td>Munich</td>\n",
       "      <td>142913</td>\n",
       "    </tr>\n",
       "  </tbody>\n",
       "</table>\n",
       "</div>"
      ]
     },
     "execution_count": 173,
     "metadata": {},
     "output_type": "execute_result"
    }
   ],
   "execution_count": 173
  },
  {
   "metadata": {},
   "cell_type": "markdown",
   "source": "### Checking Issues",
   "id": "880ca172107f3ea3"
  },
  {
   "metadata": {
    "ExecuteTime": {
     "end_time": "2024-09-05T19:01:47.014817Z",
     "start_time": "2024-09-05T19:01:47.012435Z"
    }
   },
   "cell_type": "code",
   "source": [
    "# check all rows accounted for\n",
    "len(issues_df)"
   ],
   "id": "6be3967605080e38",
   "outputs": [
    {
     "data": {
      "text/plain": [
       "114139"
      ]
     },
     "execution_count": 174,
     "metadata": {},
     "output_type": "execute_result"
    }
   ],
   "execution_count": 174
  },
  {
   "metadata": {
    "ExecuteTime": {
     "end_time": "2024-09-05T19:01:47.125148Z",
     "start_time": "2024-09-05T19:01:47.119861Z"
    }
   },
   "cell_type": "code",
   "source": "issues_df['VEHICLE_MODEL'].unique()",
   "id": "a81f2d3b7b91be52",
   "outputs": [
    {
     "data": {
      "text/plain": [
       "array(['HL5', 'PX8', 'VC3', 'XN7'], dtype=object)"
      ]
     },
     "execution_count": 175,
     "metadata": {},
     "output_type": "execute_result"
    }
   ],
   "execution_count": 175
  },
  {
   "metadata": {
    "ExecuteTime": {
     "end_time": "2024-09-05T19:01:47.207397Z",
     "start_time": "2024-09-05T19:01:47.202176Z"
    }
   },
   "cell_type": "code",
   "source": "issues_df['CUSTOMER_REGION'].unique()",
   "id": "11f3fed0b867f8c8",
   "outputs": [
    {
     "data": {
      "text/plain": [
       "array(['Americas', 'Asia', 'Europe'], dtype=object)"
      ]
     },
     "execution_count": 176,
     "metadata": {},
     "output_type": "execute_result"
    }
   ],
   "execution_count": 176
  },
  {
   "metadata": {
    "ExecuteTime": {
     "end_time": "2024-09-05T19:01:47.256922Z",
     "start_time": "2024-09-05T19:01:47.251449Z"
    }
   },
   "cell_type": "code",
   "source": "issues_df['MANUFACTURING_CITY'].unique()",
   "id": "eade82b76e16bcf2",
   "outputs": [
    {
     "data": {
      "text/plain": [
       "array(['Detroit', 'Munich', 'Tokyo', 'Louisville', 'Toluca', 'Toronto'],\n",
       "      dtype=object)"
      ]
     },
     "execution_count": 177,
     "metadata": {},
     "output_type": "execute_result"
    }
   ],
   "execution_count": 177
  },
  {
   "metadata": {
    "ExecuteTime": {
     "end_time": "2024-09-05T19:01:47.291803Z",
     "start_time": "2024-09-05T19:01:47.284983Z"
    }
   },
   "cell_type": "code",
   "source": "issues_df['CUSTOMER_ISSUE'].unique()",
   "id": "37da4b1bfb72b62b",
   "outputs": [
    {
     "data": {
      "text/plain": [
       "array(['Air Conditioning/Heating Issue', 'Alternator Failure',\n",
       "       'Axle and Drivetrain Issue', 'Battery Failure', 'Braking Issue',\n",
       "       'Cooling System Inoperative', 'Door Lock Actuator Issue',\n",
       "       'Electrical System Issue', 'Emissions System Malfunction',\n",
       "       'Engine Failure', 'Exhaust System Leaking', 'Fuel Leak',\n",
       "       'Fuel Pump Issue', 'Horn Malfunction', 'Ignition System Failure',\n",
       "       'Infotainment System Malfunction', 'Key Fob Malfunctions',\n",
       "       'Paint Defects', 'Power Window Regulator Problem',\n",
       "       'Rust and Corrosion', 'Software Bug', 'Starter Motor Failure',\n",
       "       'Steering Component Failure', 'Suspension Issue',\n",
       "       'Timing Belt/Chain Issue', 'Transmission Issue',\n",
       "       'Turbocharger Failure', 'Wheel Bearings Issue',\n",
       "       'Windshield Wiper Motor Failure'], dtype=object)"
      ]
     },
     "execution_count": 178,
     "metadata": {},
     "output_type": "execute_result"
    }
   ],
   "execution_count": 178
  },
  {
   "metadata": {
    "ExecuteTime": {
     "end_time": "2024-09-05T19:01:47.334632Z",
     "start_time": "2024-09-05T19:01:47.319610Z"
    }
   },
   "cell_type": "code",
   "source": [
    "#checking for nulls\n",
    "print(issues_df.isnull().sum())\n",
    "print(sales_df.isnull().sum())"
   ],
   "id": "8a5dbb08f313fe3e",
   "outputs": [
    {
     "name": "stdout",
     "output_type": "stream",
     "text": [
      "VEHICLE_MODEL         0\n",
      "CUSTOMER_REGION       0\n",
      "MANUFACTURING_CITY    0\n",
      "CUSTOMER_ISSUE        0\n",
      "WEEK                  0\n",
      "ISSUE_COUNT           0\n",
      "dtype: int64\n",
      "VEHICLE_MODEL          0\n",
      "CUSTOMER_REGION        0\n",
      "MANUFACTURING_CITY     0\n",
      "VEHICLES_SOLD_COUNT    0\n",
      "dtype: int64\n"
     ]
    }
   ],
   "execution_count": 179
  },
  {
   "metadata": {
    "ExecuteTime": {
     "end_time": "2024-09-05T19:01:47.363192Z",
     "start_time": "2024-09-05T19:01:47.361326Z"
    }
   },
   "cell_type": "code",
   "source": "### Checking Sales",
   "id": "ff72d0ece0f365c6",
   "outputs": [],
   "execution_count": 180
  },
  {
   "metadata": {
    "ExecuteTime": {
     "end_time": "2024-09-05T19:01:47.390740Z",
     "start_time": "2024-09-05T19:01:47.388617Z"
    }
   },
   "cell_type": "code",
   "source": "len(sales_df)",
   "id": "8b712f13a7444a60",
   "outputs": [
    {
     "data": {
      "text/plain": [
       "42"
      ]
     },
     "execution_count": 181,
     "metadata": {},
     "output_type": "execute_result"
    }
   ],
   "execution_count": 181
  },
  {
   "metadata": {
    "ExecuteTime": {
     "end_time": "2024-09-05T19:01:47.420211Z",
     "start_time": "2024-09-05T19:01:47.417632Z"
    }
   },
   "cell_type": "code",
   "source": "sales_df['VEHICLE_MODEL'].unique()",
   "id": "abd571e49aac8742",
   "outputs": [
    {
     "data": {
      "text/plain": [
       "array(['HL5', 'PX8', 'VC3', 'XN7'], dtype=object)"
      ]
     },
     "execution_count": 182,
     "metadata": {},
     "output_type": "execute_result"
    }
   ],
   "execution_count": 182
  },
  {
   "metadata": {
    "ExecuteTime": {
     "end_time": "2024-09-05T19:01:47.466059Z",
     "start_time": "2024-09-05T19:01:47.463377Z"
    }
   },
   "cell_type": "code",
   "source": "sales_df['CUSTOMER_REGION'].unique()",
   "id": "5db5f144caa4019a",
   "outputs": [
    {
     "data": {
      "text/plain": [
       "array(['Americas', 'Asia', 'Europe'], dtype=object)"
      ]
     },
     "execution_count": 183,
     "metadata": {},
     "output_type": "execute_result"
    }
   ],
   "execution_count": 183
  },
  {
   "metadata": {
    "ExecuteTime": {
     "end_time": "2024-09-05T19:01:47.499016Z",
     "start_time": "2024-09-05T19:01:47.496302Z"
    }
   },
   "cell_type": "code",
   "source": "sales_df['MANUFACTURING_CITY'].unique()",
   "id": "a5066c818fffb637",
   "outputs": [
    {
     "data": {
      "text/plain": [
       "array(['Detroit', 'Munich', 'Tokyo', 'Louisville', 'Toluca', 'Toronto'],\n",
       "      dtype=object)"
      ]
     },
     "execution_count": 184,
     "metadata": {},
     "output_type": "execute_result"
    }
   ],
   "execution_count": 184
  },
  {
   "metadata": {},
   "cell_type": "markdown",
   "source": "## Exploration things",
   "id": "769da09382113a6c"
  },
  {
   "metadata": {
    "ExecuteTime": {
     "end_time": "2024-09-05T19:01:47.531643Z",
     "start_time": "2024-09-05T19:01:47.530013Z"
    }
   },
   "cell_type": "code",
   "source": [
    "### Chart - sales by region\n",
    "### and then maybe stacked to add in models?\n",
    "### Or like seaborn to create multiple bar charts, regions, and the charts are sales v model"
   ],
   "id": "7af1b2c2d95404af",
   "outputs": [],
   "execution_count": 185
  },
  {
   "metadata": {
    "ExecuteTime": {
     "end_time": "2024-09-05T19:01:47.576557Z",
     "start_time": "2024-09-05T19:01:47.556129Z"
    }
   },
   "cell_type": "code",
   "source": [
    "# Bar chart of models\n",
    "\n",
    "fig=px.bar(data_frame=sales_df,x='VEHICLE_MODEL',y='VEHICLES_SOLD_COUNT',color='CUSTOMER_REGION')\n",
    "fig.show()"
   ],
   "id": "b764c1f8e4f99cd8",
   "outputs": [
    {
     "data": {
      "application/vnd.plotly.v1+json": {
       "data": [
        {
         "alignmentgroup": "True",
         "hovertemplate": "CUSTOMER_REGION=Americas<br>VEHICLE_MODEL=%{x}<br>VEHICLES_SOLD_COUNT=%{y}<extra></extra>",
         "legendgroup": "Americas",
         "marker": {
          "color": "#636efa",
          "pattern": {
           "shape": ""
          }
         },
         "name": "Americas",
         "offsetgroup": "Americas",
         "orientation": "v",
         "showlegend": true,
         "textposition": "auto",
         "x": [
          "HL5",
          "HL5",
          "HL5",
          "PX8",
          "PX8",
          "PX8",
          "PX8",
          "VC3",
          "VC3",
          "XN7",
          "XN7",
          "XN7",
          "XN7",
          "XN7",
          "XN7"
         ],
         "xaxis": "x",
         "y": [
          61282,
          150906,
          922086,
          39372,
          498902,
          152010,
          323846,
          68950,
          515742,
          701464,
          103646,
          1247532,
          809959,
          368430,
          182371
         ],
         "yaxis": "y",
         "type": "bar"
        },
        {
         "alignmentgroup": "True",
         "hovertemplate": "CUSTOMER_REGION=Asia<br>VEHICLE_MODEL=%{x}<br>VEHICLES_SOLD_COUNT=%{y}<extra></extra>",
         "legendgroup": "Asia",
         "marker": {
          "color": "#EF553B",
          "pattern": {
           "shape": ""
          }
         },
         "name": "Asia",
         "offsetgroup": "Asia",
         "orientation": "v",
         "showlegend": true,
         "textposition": "auto",
         "x": [
          "HL5",
          "HL5",
          "HL5",
          "PX8",
          "PX8",
          "PX8",
          "PX8",
          "VC3",
          "VC3",
          "XN7",
          "XN7",
          "XN7",
          "XN7",
          "XN7"
         ],
         "xaxis": "x",
         "y": [
          17217,
          142913,
          609153,
          21774,
          417472,
          27215,
          526728,
          8526,
          919885,
          654547,
          219006,
          887710,
          1183227,
          1001816
         ],
         "yaxis": "y",
         "type": "bar"
        },
        {
         "alignmentgroup": "True",
         "hovertemplate": "CUSTOMER_REGION=Europe<br>VEHICLE_MODEL=%{x}<br>VEHICLES_SOLD_COUNT=%{y}<extra></extra>",
         "legendgroup": "Europe",
         "marker": {
          "color": "#00cc96",
          "pattern": {
           "shape": ""
          }
         },
         "name": "Europe",
         "offsetgroup": "Europe",
         "orientation": "v",
         "showlegend": true,
         "textposition": "auto",
         "x": [
          "HL5",
          "HL5",
          "HL5",
          "PX8",
          "PX8",
          "PX8",
          "PX8",
          "VC3",
          "VC3",
          "XN7",
          "XN7",
          "XN7",
          "XN7"
         ],
         "xaxis": "x",
         "y": [
          20340,
          440379,
          2104376,
          32874,
          1117901,
          781520,
          1271581,
          152905,
          1813832,
          2087465,
          442976,
          4294079,
          4542355
         ],
         "yaxis": "y",
         "type": "bar"
        }
       ],
       "layout": {
        "template": {
         "data": {
          "histogram2dcontour": [
           {
            "type": "histogram2dcontour",
            "colorbar": {
             "outlinewidth": 0,
             "ticks": ""
            },
            "colorscale": [
             [
              0.0,
              "#0d0887"
             ],
             [
              0.1111111111111111,
              "#46039f"
             ],
             [
              0.2222222222222222,
              "#7201a8"
             ],
             [
              0.3333333333333333,
              "#9c179e"
             ],
             [
              0.4444444444444444,
              "#bd3786"
             ],
             [
              0.5555555555555556,
              "#d8576b"
             ],
             [
              0.6666666666666666,
              "#ed7953"
             ],
             [
              0.7777777777777778,
              "#fb9f3a"
             ],
             [
              0.8888888888888888,
              "#fdca26"
             ],
             [
              1.0,
              "#f0f921"
             ]
            ]
           }
          ],
          "choropleth": [
           {
            "type": "choropleth",
            "colorbar": {
             "outlinewidth": 0,
             "ticks": ""
            }
           }
          ],
          "histogram2d": [
           {
            "type": "histogram2d",
            "colorbar": {
             "outlinewidth": 0,
             "ticks": ""
            },
            "colorscale": [
             [
              0.0,
              "#0d0887"
             ],
             [
              0.1111111111111111,
              "#46039f"
             ],
             [
              0.2222222222222222,
              "#7201a8"
             ],
             [
              0.3333333333333333,
              "#9c179e"
             ],
             [
              0.4444444444444444,
              "#bd3786"
             ],
             [
              0.5555555555555556,
              "#d8576b"
             ],
             [
              0.6666666666666666,
              "#ed7953"
             ],
             [
              0.7777777777777778,
              "#fb9f3a"
             ],
             [
              0.8888888888888888,
              "#fdca26"
             ],
             [
              1.0,
              "#f0f921"
             ]
            ]
           }
          ],
          "heatmap": [
           {
            "type": "heatmap",
            "colorbar": {
             "outlinewidth": 0,
             "ticks": ""
            },
            "colorscale": [
             [
              0.0,
              "#0d0887"
             ],
             [
              0.1111111111111111,
              "#46039f"
             ],
             [
              0.2222222222222222,
              "#7201a8"
             ],
             [
              0.3333333333333333,
              "#9c179e"
             ],
             [
              0.4444444444444444,
              "#bd3786"
             ],
             [
              0.5555555555555556,
              "#d8576b"
             ],
             [
              0.6666666666666666,
              "#ed7953"
             ],
             [
              0.7777777777777778,
              "#fb9f3a"
             ],
             [
              0.8888888888888888,
              "#fdca26"
             ],
             [
              1.0,
              "#f0f921"
             ]
            ]
           }
          ],
          "heatmapgl": [
           {
            "type": "heatmapgl",
            "colorbar": {
             "outlinewidth": 0,
             "ticks": ""
            },
            "colorscale": [
             [
              0.0,
              "#0d0887"
             ],
             [
              0.1111111111111111,
              "#46039f"
             ],
             [
              0.2222222222222222,
              "#7201a8"
             ],
             [
              0.3333333333333333,
              "#9c179e"
             ],
             [
              0.4444444444444444,
              "#bd3786"
             ],
             [
              0.5555555555555556,
              "#d8576b"
             ],
             [
              0.6666666666666666,
              "#ed7953"
             ],
             [
              0.7777777777777778,
              "#fb9f3a"
             ],
             [
              0.8888888888888888,
              "#fdca26"
             ],
             [
              1.0,
              "#f0f921"
             ]
            ]
           }
          ],
          "contourcarpet": [
           {
            "type": "contourcarpet",
            "colorbar": {
             "outlinewidth": 0,
             "ticks": ""
            }
           }
          ],
          "contour": [
           {
            "type": "contour",
            "colorbar": {
             "outlinewidth": 0,
             "ticks": ""
            },
            "colorscale": [
             [
              0.0,
              "#0d0887"
             ],
             [
              0.1111111111111111,
              "#46039f"
             ],
             [
              0.2222222222222222,
              "#7201a8"
             ],
             [
              0.3333333333333333,
              "#9c179e"
             ],
             [
              0.4444444444444444,
              "#bd3786"
             ],
             [
              0.5555555555555556,
              "#d8576b"
             ],
             [
              0.6666666666666666,
              "#ed7953"
             ],
             [
              0.7777777777777778,
              "#fb9f3a"
             ],
             [
              0.8888888888888888,
              "#fdca26"
             ],
             [
              1.0,
              "#f0f921"
             ]
            ]
           }
          ],
          "surface": [
           {
            "type": "surface",
            "colorbar": {
             "outlinewidth": 0,
             "ticks": ""
            },
            "colorscale": [
             [
              0.0,
              "#0d0887"
             ],
             [
              0.1111111111111111,
              "#46039f"
             ],
             [
              0.2222222222222222,
              "#7201a8"
             ],
             [
              0.3333333333333333,
              "#9c179e"
             ],
             [
              0.4444444444444444,
              "#bd3786"
             ],
             [
              0.5555555555555556,
              "#d8576b"
             ],
             [
              0.6666666666666666,
              "#ed7953"
             ],
             [
              0.7777777777777778,
              "#fb9f3a"
             ],
             [
              0.8888888888888888,
              "#fdca26"
             ],
             [
              1.0,
              "#f0f921"
             ]
            ]
           }
          ],
          "mesh3d": [
           {
            "type": "mesh3d",
            "colorbar": {
             "outlinewidth": 0,
             "ticks": ""
            }
           }
          ],
          "scatter": [
           {
            "fillpattern": {
             "fillmode": "overlay",
             "size": 10,
             "solidity": 0.2
            },
            "type": "scatter"
           }
          ],
          "parcoords": [
           {
            "type": "parcoords",
            "line": {
             "colorbar": {
              "outlinewidth": 0,
              "ticks": ""
             }
            }
           }
          ],
          "scatterpolargl": [
           {
            "type": "scatterpolargl",
            "marker": {
             "colorbar": {
              "outlinewidth": 0,
              "ticks": ""
             }
            }
           }
          ],
          "bar": [
           {
            "error_x": {
             "color": "#2a3f5f"
            },
            "error_y": {
             "color": "#2a3f5f"
            },
            "marker": {
             "line": {
              "color": "#E5ECF6",
              "width": 0.5
             },
             "pattern": {
              "fillmode": "overlay",
              "size": 10,
              "solidity": 0.2
             }
            },
            "type": "bar"
           }
          ],
          "scattergeo": [
           {
            "type": "scattergeo",
            "marker": {
             "colorbar": {
              "outlinewidth": 0,
              "ticks": ""
             }
            }
           }
          ],
          "scatterpolar": [
           {
            "type": "scatterpolar",
            "marker": {
             "colorbar": {
              "outlinewidth": 0,
              "ticks": ""
             }
            }
           }
          ],
          "histogram": [
           {
            "marker": {
             "pattern": {
              "fillmode": "overlay",
              "size": 10,
              "solidity": 0.2
             }
            },
            "type": "histogram"
           }
          ],
          "scattergl": [
           {
            "type": "scattergl",
            "marker": {
             "colorbar": {
              "outlinewidth": 0,
              "ticks": ""
             }
            }
           }
          ],
          "scatter3d": [
           {
            "type": "scatter3d",
            "line": {
             "colorbar": {
              "outlinewidth": 0,
              "ticks": ""
             }
            },
            "marker": {
             "colorbar": {
              "outlinewidth": 0,
              "ticks": ""
             }
            }
           }
          ],
          "scattermapbox": [
           {
            "type": "scattermapbox",
            "marker": {
             "colorbar": {
              "outlinewidth": 0,
              "ticks": ""
             }
            }
           }
          ],
          "scatterternary": [
           {
            "type": "scatterternary",
            "marker": {
             "colorbar": {
              "outlinewidth": 0,
              "ticks": ""
             }
            }
           }
          ],
          "scattercarpet": [
           {
            "type": "scattercarpet",
            "marker": {
             "colorbar": {
              "outlinewidth": 0,
              "ticks": ""
             }
            }
           }
          ],
          "carpet": [
           {
            "aaxis": {
             "endlinecolor": "#2a3f5f",
             "gridcolor": "white",
             "linecolor": "white",
             "minorgridcolor": "white",
             "startlinecolor": "#2a3f5f"
            },
            "baxis": {
             "endlinecolor": "#2a3f5f",
             "gridcolor": "white",
             "linecolor": "white",
             "minorgridcolor": "white",
             "startlinecolor": "#2a3f5f"
            },
            "type": "carpet"
           }
          ],
          "table": [
           {
            "cells": {
             "fill": {
              "color": "#EBF0F8"
             },
             "line": {
              "color": "white"
             }
            },
            "header": {
             "fill": {
              "color": "#C8D4E3"
             },
             "line": {
              "color": "white"
             }
            },
            "type": "table"
           }
          ],
          "barpolar": [
           {
            "marker": {
             "line": {
              "color": "#E5ECF6",
              "width": 0.5
             },
             "pattern": {
              "fillmode": "overlay",
              "size": 10,
              "solidity": 0.2
             }
            },
            "type": "barpolar"
           }
          ],
          "pie": [
           {
            "automargin": true,
            "type": "pie"
           }
          ]
         },
         "layout": {
          "autotypenumbers": "strict",
          "colorway": [
           "#636efa",
           "#EF553B",
           "#00cc96",
           "#ab63fa",
           "#FFA15A",
           "#19d3f3",
           "#FF6692",
           "#B6E880",
           "#FF97FF",
           "#FECB52"
          ],
          "font": {
           "color": "#2a3f5f"
          },
          "hovermode": "closest",
          "hoverlabel": {
           "align": "left"
          },
          "paper_bgcolor": "white",
          "plot_bgcolor": "#E5ECF6",
          "polar": {
           "bgcolor": "#E5ECF6",
           "angularaxis": {
            "gridcolor": "white",
            "linecolor": "white",
            "ticks": ""
           },
           "radialaxis": {
            "gridcolor": "white",
            "linecolor": "white",
            "ticks": ""
           }
          },
          "ternary": {
           "bgcolor": "#E5ECF6",
           "aaxis": {
            "gridcolor": "white",
            "linecolor": "white",
            "ticks": ""
           },
           "baxis": {
            "gridcolor": "white",
            "linecolor": "white",
            "ticks": ""
           },
           "caxis": {
            "gridcolor": "white",
            "linecolor": "white",
            "ticks": ""
           }
          },
          "coloraxis": {
           "colorbar": {
            "outlinewidth": 0,
            "ticks": ""
           }
          },
          "colorscale": {
           "sequential": [
            [
             0.0,
             "#0d0887"
            ],
            [
             0.1111111111111111,
             "#46039f"
            ],
            [
             0.2222222222222222,
             "#7201a8"
            ],
            [
             0.3333333333333333,
             "#9c179e"
            ],
            [
             0.4444444444444444,
             "#bd3786"
            ],
            [
             0.5555555555555556,
             "#d8576b"
            ],
            [
             0.6666666666666666,
             "#ed7953"
            ],
            [
             0.7777777777777778,
             "#fb9f3a"
            ],
            [
             0.8888888888888888,
             "#fdca26"
            ],
            [
             1.0,
             "#f0f921"
            ]
           ],
           "sequentialminus": [
            [
             0.0,
             "#0d0887"
            ],
            [
             0.1111111111111111,
             "#46039f"
            ],
            [
             0.2222222222222222,
             "#7201a8"
            ],
            [
             0.3333333333333333,
             "#9c179e"
            ],
            [
             0.4444444444444444,
             "#bd3786"
            ],
            [
             0.5555555555555556,
             "#d8576b"
            ],
            [
             0.6666666666666666,
             "#ed7953"
            ],
            [
             0.7777777777777778,
             "#fb9f3a"
            ],
            [
             0.8888888888888888,
             "#fdca26"
            ],
            [
             1.0,
             "#f0f921"
            ]
           ],
           "diverging": [
            [
             0,
             "#8e0152"
            ],
            [
             0.1,
             "#c51b7d"
            ],
            [
             0.2,
             "#de77ae"
            ],
            [
             0.3,
             "#f1b6da"
            ],
            [
             0.4,
             "#fde0ef"
            ],
            [
             0.5,
             "#f7f7f7"
            ],
            [
             0.6,
             "#e6f5d0"
            ],
            [
             0.7,
             "#b8e186"
            ],
            [
             0.8,
             "#7fbc41"
            ],
            [
             0.9,
             "#4d9221"
            ],
            [
             1,
             "#276419"
            ]
           ]
          },
          "xaxis": {
           "gridcolor": "white",
           "linecolor": "white",
           "ticks": "",
           "title": {
            "standoff": 15
           },
           "zerolinecolor": "white",
           "automargin": true,
           "zerolinewidth": 2
          },
          "yaxis": {
           "gridcolor": "white",
           "linecolor": "white",
           "ticks": "",
           "title": {
            "standoff": 15
           },
           "zerolinecolor": "white",
           "automargin": true,
           "zerolinewidth": 2
          },
          "scene": {
           "xaxis": {
            "backgroundcolor": "#E5ECF6",
            "gridcolor": "white",
            "linecolor": "white",
            "showbackground": true,
            "ticks": "",
            "zerolinecolor": "white",
            "gridwidth": 2
           },
           "yaxis": {
            "backgroundcolor": "#E5ECF6",
            "gridcolor": "white",
            "linecolor": "white",
            "showbackground": true,
            "ticks": "",
            "zerolinecolor": "white",
            "gridwidth": 2
           },
           "zaxis": {
            "backgroundcolor": "#E5ECF6",
            "gridcolor": "white",
            "linecolor": "white",
            "showbackground": true,
            "ticks": "",
            "zerolinecolor": "white",
            "gridwidth": 2
           }
          },
          "shapedefaults": {
           "line": {
            "color": "#2a3f5f"
           }
          },
          "annotationdefaults": {
           "arrowcolor": "#2a3f5f",
           "arrowhead": 0,
           "arrowwidth": 1
          },
          "geo": {
           "bgcolor": "white",
           "landcolor": "#E5ECF6",
           "subunitcolor": "white",
           "showland": true,
           "showlakes": true,
           "lakecolor": "white"
          },
          "title": {
           "x": 0.05
          },
          "mapbox": {
           "style": "light"
          }
         }
        },
        "xaxis": {
         "anchor": "y",
         "domain": [
          0.0,
          1.0
         ],
         "title": {
          "text": "VEHICLE_MODEL"
         }
        },
        "yaxis": {
         "anchor": "x",
         "domain": [
          0.0,
          1.0
         ],
         "title": {
          "text": "VEHICLES_SOLD_COUNT"
         }
        },
        "legend": {
         "title": {
          "text": "CUSTOMER_REGION"
         },
         "tracegroupgap": 0
        },
        "margin": {
         "t": 60
        },
        "barmode": "relative"
       },
       "config": {
        "plotlyServerURL": "https://plot.ly"
       }
      },
      "text/html": [
       "<div>                            <div id=\"64fc6a80-8bf9-4a63-9bfd-2a42b2bbf15b\" class=\"plotly-graph-div\" style=\"height:525px; width:100%;\"></div>            <script type=\"text/javascript\">                require([\"plotly\"], function(Plotly) {                    window.PLOTLYENV=window.PLOTLYENV || {};                                    if (document.getElementById(\"64fc6a80-8bf9-4a63-9bfd-2a42b2bbf15b\")) {                    Plotly.newPlot(                        \"64fc6a80-8bf9-4a63-9bfd-2a42b2bbf15b\",                        [{\"alignmentgroup\":\"True\",\"hovertemplate\":\"CUSTOMER_REGION=Americas\\u003cbr\\u003eVEHICLE_MODEL=%{x}\\u003cbr\\u003eVEHICLES_SOLD_COUNT=%{y}\\u003cextra\\u003e\\u003c\\u002fextra\\u003e\",\"legendgroup\":\"Americas\",\"marker\":{\"color\":\"#636efa\",\"pattern\":{\"shape\":\"\"}},\"name\":\"Americas\",\"offsetgroup\":\"Americas\",\"orientation\":\"v\",\"showlegend\":true,\"textposition\":\"auto\",\"x\":[\"HL5\",\"HL5\",\"HL5\",\"PX8\",\"PX8\",\"PX8\",\"PX8\",\"VC3\",\"VC3\",\"XN7\",\"XN7\",\"XN7\",\"XN7\",\"XN7\",\"XN7\"],\"xaxis\":\"x\",\"y\":[61282,150906,922086,39372,498902,152010,323846,68950,515742,701464,103646,1247532,809959,368430,182371],\"yaxis\":\"y\",\"type\":\"bar\"},{\"alignmentgroup\":\"True\",\"hovertemplate\":\"CUSTOMER_REGION=Asia\\u003cbr\\u003eVEHICLE_MODEL=%{x}\\u003cbr\\u003eVEHICLES_SOLD_COUNT=%{y}\\u003cextra\\u003e\\u003c\\u002fextra\\u003e\",\"legendgroup\":\"Asia\",\"marker\":{\"color\":\"#EF553B\",\"pattern\":{\"shape\":\"\"}},\"name\":\"Asia\",\"offsetgroup\":\"Asia\",\"orientation\":\"v\",\"showlegend\":true,\"textposition\":\"auto\",\"x\":[\"HL5\",\"HL5\",\"HL5\",\"PX8\",\"PX8\",\"PX8\",\"PX8\",\"VC3\",\"VC3\",\"XN7\",\"XN7\",\"XN7\",\"XN7\",\"XN7\"],\"xaxis\":\"x\",\"y\":[17217,142913,609153,21774,417472,27215,526728,8526,919885,654547,219006,887710,1183227,1001816],\"yaxis\":\"y\",\"type\":\"bar\"},{\"alignmentgroup\":\"True\",\"hovertemplate\":\"CUSTOMER_REGION=Europe\\u003cbr\\u003eVEHICLE_MODEL=%{x}\\u003cbr\\u003eVEHICLES_SOLD_COUNT=%{y}\\u003cextra\\u003e\\u003c\\u002fextra\\u003e\",\"legendgroup\":\"Europe\",\"marker\":{\"color\":\"#00cc96\",\"pattern\":{\"shape\":\"\"}},\"name\":\"Europe\",\"offsetgroup\":\"Europe\",\"orientation\":\"v\",\"showlegend\":true,\"textposition\":\"auto\",\"x\":[\"HL5\",\"HL5\",\"HL5\",\"PX8\",\"PX8\",\"PX8\",\"PX8\",\"VC3\",\"VC3\",\"XN7\",\"XN7\",\"XN7\",\"XN7\"],\"xaxis\":\"x\",\"y\":[20340,440379,2104376,32874,1117901,781520,1271581,152905,1813832,2087465,442976,4294079,4542355],\"yaxis\":\"y\",\"type\":\"bar\"}],                        {\"template\":{\"data\":{\"histogram2dcontour\":[{\"type\":\"histogram2dcontour\",\"colorbar\":{\"outlinewidth\":0,\"ticks\":\"\"},\"colorscale\":[[0.0,\"#0d0887\"],[0.1111111111111111,\"#46039f\"],[0.2222222222222222,\"#7201a8\"],[0.3333333333333333,\"#9c179e\"],[0.4444444444444444,\"#bd3786\"],[0.5555555555555556,\"#d8576b\"],[0.6666666666666666,\"#ed7953\"],[0.7777777777777778,\"#fb9f3a\"],[0.8888888888888888,\"#fdca26\"],[1.0,\"#f0f921\"]]}],\"choropleth\":[{\"type\":\"choropleth\",\"colorbar\":{\"outlinewidth\":0,\"ticks\":\"\"}}],\"histogram2d\":[{\"type\":\"histogram2d\",\"colorbar\":{\"outlinewidth\":0,\"ticks\":\"\"},\"colorscale\":[[0.0,\"#0d0887\"],[0.1111111111111111,\"#46039f\"],[0.2222222222222222,\"#7201a8\"],[0.3333333333333333,\"#9c179e\"],[0.4444444444444444,\"#bd3786\"],[0.5555555555555556,\"#d8576b\"],[0.6666666666666666,\"#ed7953\"],[0.7777777777777778,\"#fb9f3a\"],[0.8888888888888888,\"#fdca26\"],[1.0,\"#f0f921\"]]}],\"heatmap\":[{\"type\":\"heatmap\",\"colorbar\":{\"outlinewidth\":0,\"ticks\":\"\"},\"colorscale\":[[0.0,\"#0d0887\"],[0.1111111111111111,\"#46039f\"],[0.2222222222222222,\"#7201a8\"],[0.3333333333333333,\"#9c179e\"],[0.4444444444444444,\"#bd3786\"],[0.5555555555555556,\"#d8576b\"],[0.6666666666666666,\"#ed7953\"],[0.7777777777777778,\"#fb9f3a\"],[0.8888888888888888,\"#fdca26\"],[1.0,\"#f0f921\"]]}],\"heatmapgl\":[{\"type\":\"heatmapgl\",\"colorbar\":{\"outlinewidth\":0,\"ticks\":\"\"},\"colorscale\":[[0.0,\"#0d0887\"],[0.1111111111111111,\"#46039f\"],[0.2222222222222222,\"#7201a8\"],[0.3333333333333333,\"#9c179e\"],[0.4444444444444444,\"#bd3786\"],[0.5555555555555556,\"#d8576b\"],[0.6666666666666666,\"#ed7953\"],[0.7777777777777778,\"#fb9f3a\"],[0.8888888888888888,\"#fdca26\"],[1.0,\"#f0f921\"]]}],\"contourcarpet\":[{\"type\":\"contourcarpet\",\"colorbar\":{\"outlinewidth\":0,\"ticks\":\"\"}}],\"contour\":[{\"type\":\"contour\",\"colorbar\":{\"outlinewidth\":0,\"ticks\":\"\"},\"colorscale\":[[0.0,\"#0d0887\"],[0.1111111111111111,\"#46039f\"],[0.2222222222222222,\"#7201a8\"],[0.3333333333333333,\"#9c179e\"],[0.4444444444444444,\"#bd3786\"],[0.5555555555555556,\"#d8576b\"],[0.6666666666666666,\"#ed7953\"],[0.7777777777777778,\"#fb9f3a\"],[0.8888888888888888,\"#fdca26\"],[1.0,\"#f0f921\"]]}],\"surface\":[{\"type\":\"surface\",\"colorbar\":{\"outlinewidth\":0,\"ticks\":\"\"},\"colorscale\":[[0.0,\"#0d0887\"],[0.1111111111111111,\"#46039f\"],[0.2222222222222222,\"#7201a8\"],[0.3333333333333333,\"#9c179e\"],[0.4444444444444444,\"#bd3786\"],[0.5555555555555556,\"#d8576b\"],[0.6666666666666666,\"#ed7953\"],[0.7777777777777778,\"#fb9f3a\"],[0.8888888888888888,\"#fdca26\"],[1.0,\"#f0f921\"]]}],\"mesh3d\":[{\"type\":\"mesh3d\",\"colorbar\":{\"outlinewidth\":0,\"ticks\":\"\"}}],\"scatter\":[{\"fillpattern\":{\"fillmode\":\"overlay\",\"size\":10,\"solidity\":0.2},\"type\":\"scatter\"}],\"parcoords\":[{\"type\":\"parcoords\",\"line\":{\"colorbar\":{\"outlinewidth\":0,\"ticks\":\"\"}}}],\"scatterpolargl\":[{\"type\":\"scatterpolargl\",\"marker\":{\"colorbar\":{\"outlinewidth\":0,\"ticks\":\"\"}}}],\"bar\":[{\"error_x\":{\"color\":\"#2a3f5f\"},\"error_y\":{\"color\":\"#2a3f5f\"},\"marker\":{\"line\":{\"color\":\"#E5ECF6\",\"width\":0.5},\"pattern\":{\"fillmode\":\"overlay\",\"size\":10,\"solidity\":0.2}},\"type\":\"bar\"}],\"scattergeo\":[{\"type\":\"scattergeo\",\"marker\":{\"colorbar\":{\"outlinewidth\":0,\"ticks\":\"\"}}}],\"scatterpolar\":[{\"type\":\"scatterpolar\",\"marker\":{\"colorbar\":{\"outlinewidth\":0,\"ticks\":\"\"}}}],\"histogram\":[{\"marker\":{\"pattern\":{\"fillmode\":\"overlay\",\"size\":10,\"solidity\":0.2}},\"type\":\"histogram\"}],\"scattergl\":[{\"type\":\"scattergl\",\"marker\":{\"colorbar\":{\"outlinewidth\":0,\"ticks\":\"\"}}}],\"scatter3d\":[{\"type\":\"scatter3d\",\"line\":{\"colorbar\":{\"outlinewidth\":0,\"ticks\":\"\"}},\"marker\":{\"colorbar\":{\"outlinewidth\":0,\"ticks\":\"\"}}}],\"scattermapbox\":[{\"type\":\"scattermapbox\",\"marker\":{\"colorbar\":{\"outlinewidth\":0,\"ticks\":\"\"}}}],\"scatterternary\":[{\"type\":\"scatterternary\",\"marker\":{\"colorbar\":{\"outlinewidth\":0,\"ticks\":\"\"}}}],\"scattercarpet\":[{\"type\":\"scattercarpet\",\"marker\":{\"colorbar\":{\"outlinewidth\":0,\"ticks\":\"\"}}}],\"carpet\":[{\"aaxis\":{\"endlinecolor\":\"#2a3f5f\",\"gridcolor\":\"white\",\"linecolor\":\"white\",\"minorgridcolor\":\"white\",\"startlinecolor\":\"#2a3f5f\"},\"baxis\":{\"endlinecolor\":\"#2a3f5f\",\"gridcolor\":\"white\",\"linecolor\":\"white\",\"minorgridcolor\":\"white\",\"startlinecolor\":\"#2a3f5f\"},\"type\":\"carpet\"}],\"table\":[{\"cells\":{\"fill\":{\"color\":\"#EBF0F8\"},\"line\":{\"color\":\"white\"}},\"header\":{\"fill\":{\"color\":\"#C8D4E3\"},\"line\":{\"color\":\"white\"}},\"type\":\"table\"}],\"barpolar\":[{\"marker\":{\"line\":{\"color\":\"#E5ECF6\",\"width\":0.5},\"pattern\":{\"fillmode\":\"overlay\",\"size\":10,\"solidity\":0.2}},\"type\":\"barpolar\"}],\"pie\":[{\"automargin\":true,\"type\":\"pie\"}]},\"layout\":{\"autotypenumbers\":\"strict\",\"colorway\":[\"#636efa\",\"#EF553B\",\"#00cc96\",\"#ab63fa\",\"#FFA15A\",\"#19d3f3\",\"#FF6692\",\"#B6E880\",\"#FF97FF\",\"#FECB52\"],\"font\":{\"color\":\"#2a3f5f\"},\"hovermode\":\"closest\",\"hoverlabel\":{\"align\":\"left\"},\"paper_bgcolor\":\"white\",\"plot_bgcolor\":\"#E5ECF6\",\"polar\":{\"bgcolor\":\"#E5ECF6\",\"angularaxis\":{\"gridcolor\":\"white\",\"linecolor\":\"white\",\"ticks\":\"\"},\"radialaxis\":{\"gridcolor\":\"white\",\"linecolor\":\"white\",\"ticks\":\"\"}},\"ternary\":{\"bgcolor\":\"#E5ECF6\",\"aaxis\":{\"gridcolor\":\"white\",\"linecolor\":\"white\",\"ticks\":\"\"},\"baxis\":{\"gridcolor\":\"white\",\"linecolor\":\"white\",\"ticks\":\"\"},\"caxis\":{\"gridcolor\":\"white\",\"linecolor\":\"white\",\"ticks\":\"\"}},\"coloraxis\":{\"colorbar\":{\"outlinewidth\":0,\"ticks\":\"\"}},\"colorscale\":{\"sequential\":[[0.0,\"#0d0887\"],[0.1111111111111111,\"#46039f\"],[0.2222222222222222,\"#7201a8\"],[0.3333333333333333,\"#9c179e\"],[0.4444444444444444,\"#bd3786\"],[0.5555555555555556,\"#d8576b\"],[0.6666666666666666,\"#ed7953\"],[0.7777777777777778,\"#fb9f3a\"],[0.8888888888888888,\"#fdca26\"],[1.0,\"#f0f921\"]],\"sequentialminus\":[[0.0,\"#0d0887\"],[0.1111111111111111,\"#46039f\"],[0.2222222222222222,\"#7201a8\"],[0.3333333333333333,\"#9c179e\"],[0.4444444444444444,\"#bd3786\"],[0.5555555555555556,\"#d8576b\"],[0.6666666666666666,\"#ed7953\"],[0.7777777777777778,\"#fb9f3a\"],[0.8888888888888888,\"#fdca26\"],[1.0,\"#f0f921\"]],\"diverging\":[[0,\"#8e0152\"],[0.1,\"#c51b7d\"],[0.2,\"#de77ae\"],[0.3,\"#f1b6da\"],[0.4,\"#fde0ef\"],[0.5,\"#f7f7f7\"],[0.6,\"#e6f5d0\"],[0.7,\"#b8e186\"],[0.8,\"#7fbc41\"],[0.9,\"#4d9221\"],[1,\"#276419\"]]},\"xaxis\":{\"gridcolor\":\"white\",\"linecolor\":\"white\",\"ticks\":\"\",\"title\":{\"standoff\":15},\"zerolinecolor\":\"white\",\"automargin\":true,\"zerolinewidth\":2},\"yaxis\":{\"gridcolor\":\"white\",\"linecolor\":\"white\",\"ticks\":\"\",\"title\":{\"standoff\":15},\"zerolinecolor\":\"white\",\"automargin\":true,\"zerolinewidth\":2},\"scene\":{\"xaxis\":{\"backgroundcolor\":\"#E5ECF6\",\"gridcolor\":\"white\",\"linecolor\":\"white\",\"showbackground\":true,\"ticks\":\"\",\"zerolinecolor\":\"white\",\"gridwidth\":2},\"yaxis\":{\"backgroundcolor\":\"#E5ECF6\",\"gridcolor\":\"white\",\"linecolor\":\"white\",\"showbackground\":true,\"ticks\":\"\",\"zerolinecolor\":\"white\",\"gridwidth\":2},\"zaxis\":{\"backgroundcolor\":\"#E5ECF6\",\"gridcolor\":\"white\",\"linecolor\":\"white\",\"showbackground\":true,\"ticks\":\"\",\"zerolinecolor\":\"white\",\"gridwidth\":2}},\"shapedefaults\":{\"line\":{\"color\":\"#2a3f5f\"}},\"annotationdefaults\":{\"arrowcolor\":\"#2a3f5f\",\"arrowhead\":0,\"arrowwidth\":1},\"geo\":{\"bgcolor\":\"white\",\"landcolor\":\"#E5ECF6\",\"subunitcolor\":\"white\",\"showland\":true,\"showlakes\":true,\"lakecolor\":\"white\"},\"title\":{\"x\":0.05},\"mapbox\":{\"style\":\"light\"}}},\"xaxis\":{\"anchor\":\"y\",\"domain\":[0.0,1.0],\"title\":{\"text\":\"VEHICLE_MODEL\"}},\"yaxis\":{\"anchor\":\"x\",\"domain\":[0.0,1.0],\"title\":{\"text\":\"VEHICLES_SOLD_COUNT\"}},\"legend\":{\"title\":{\"text\":\"CUSTOMER_REGION\"},\"tracegroupgap\":0},\"margin\":{\"t\":60},\"barmode\":\"relative\"},                        {\"responsive\": true}                    ).then(function(){\n",
       "                            \n",
       "var gd = document.getElementById('64fc6a80-8bf9-4a63-9bfd-2a42b2bbf15b');\n",
       "var x = new MutationObserver(function (mutations, observer) {{\n",
       "        var display = window.getComputedStyle(gd).display;\n",
       "        if (!display || display === 'none') {{\n",
       "            console.log([gd, 'removed!']);\n",
       "            Plotly.purge(gd);\n",
       "            observer.disconnect();\n",
       "        }}\n",
       "}});\n",
       "\n",
       "// Listen for the removal of the full notebook cells\n",
       "var notebookContainer = gd.closest('#notebook-container');\n",
       "if (notebookContainer) {{\n",
       "    x.observe(notebookContainer, {childList: true});\n",
       "}}\n",
       "\n",
       "// Listen for the clearing of the current output cell\n",
       "var outputEl = gd.closest('.output');\n",
       "if (outputEl) {{\n",
       "    x.observe(outputEl, {childList: true});\n",
       "}}\n",
       "\n",
       "                        })                };                });            </script>        </div>"
      ]
     },
     "metadata": {},
     "output_type": "display_data"
    }
   ],
   "execution_count": 186
  },
  {
   "metadata": {
    "ExecuteTime": {
     "end_time": "2024-09-05T19:01:47.648797Z",
     "start_time": "2024-09-05T19:01:47.628291Z"
    }
   },
   "cell_type": "code",
   "source": [
    "#Which manufacturing cities produce which models?\n",
    "fig2=px.bar(data_frame=sales_df,x='MANUFACTURING_CITY',y='VEHICLES_SOLD_COUNT',color='VEHICLE_MODEL')\n",
    "fig2.show()"
   ],
   "id": "2d3934af33f757a8",
   "outputs": [
    {
     "data": {
      "application/vnd.plotly.v1+json": {
       "data": [
        {
         "alignmentgroup": "True",
         "hovertemplate": "VEHICLE_MODEL=HL5<br>MANUFACTURING_CITY=%{x}<br>VEHICLES_SOLD_COUNT=%{y}<extra></extra>",
         "legendgroup": "HL5",
         "marker": {
          "color": "#636efa",
          "pattern": {
           "shape": ""
          }
         },
         "name": "HL5",
         "offsetgroup": "HL5",
         "orientation": "v",
         "showlegend": true,
         "textposition": "auto",
         "x": [
          "Detroit",
          "Munich",
          "Tokyo",
          "Detroit",
          "Munich",
          "Tokyo",
          "Detroit",
          "Munich",
          "Tokyo"
         ],
         "xaxis": "x",
         "y": [
          61282,
          150906,
          922086,
          17217,
          142913,
          609153,
          20340,
          440379,
          2104376
         ],
         "yaxis": "y",
         "type": "bar"
        },
        {
         "alignmentgroup": "True",
         "hovertemplate": "VEHICLE_MODEL=PX8<br>MANUFACTURING_CITY=%{x}<br>VEHICLES_SOLD_COUNT=%{y}<extra></extra>",
         "legendgroup": "PX8",
         "marker": {
          "color": "#EF553B",
          "pattern": {
           "shape": ""
          }
         },
         "name": "PX8",
         "offsetgroup": "PX8",
         "orientation": "v",
         "showlegend": true,
         "textposition": "auto",
         "x": [
          "Detroit",
          "Louisville",
          "Munich",
          "Tokyo",
          "Detroit",
          "Louisville",
          "Munich",
          "Tokyo",
          "Detroit",
          "Louisville",
          "Munich",
          "Tokyo"
         ],
         "xaxis": "x",
         "y": [
          39372,
          498902,
          152010,
          323846,
          21774,
          417472,
          27215,
          526728,
          32874,
          1117901,
          781520,
          1271581
         ],
         "yaxis": "y",
         "type": "bar"
        },
        {
         "alignmentgroup": "True",
         "hovertemplate": "VEHICLE_MODEL=VC3<br>MANUFACTURING_CITY=%{x}<br>VEHICLES_SOLD_COUNT=%{y}<extra></extra>",
         "legendgroup": "VC3",
         "marker": {
          "color": "#00cc96",
          "pattern": {
           "shape": ""
          }
         },
         "name": "VC3",
         "offsetgroup": "VC3",
         "orientation": "v",
         "showlegend": true,
         "textposition": "auto",
         "x": [
          "Louisville",
          "Munich",
          "Louisville",
          "Munich",
          "Louisville",
          "Munich"
         ],
         "xaxis": "x",
         "y": [
          68950,
          515742,
          8526,
          919885,
          152905,
          1813832
         ],
         "yaxis": "y",
         "type": "bar"
        },
        {
         "alignmentgroup": "True",
         "hovertemplate": "VEHICLE_MODEL=XN7<br>MANUFACTURING_CITY=%{x}<br>VEHICLES_SOLD_COUNT=%{y}<extra></extra>",
         "legendgroup": "XN7",
         "marker": {
          "color": "#ab63fa",
          "pattern": {
           "shape": ""
          }
         },
         "name": "XN7",
         "offsetgroup": "XN7",
         "orientation": "v",
         "showlegend": true,
         "textposition": "auto",
         "x": [
          "Detroit",
          "Louisville",
          "Munich",
          "Tokyo",
          "Toluca",
          "Toronto",
          "Detroit",
          "Louisville",
          "Munich",
          "Tokyo",
          "Toronto",
          "Detroit",
          "Louisville",
          "Munich",
          "Tokyo"
         ],
         "xaxis": "x",
         "y": [
          701464,
          103646,
          1247532,
          809959,
          368430,
          182371,
          654547,
          219006,
          887710,
          1183227,
          1001816,
          2087465,
          442976,
          4294079,
          4542355
         ],
         "yaxis": "y",
         "type": "bar"
        }
       ],
       "layout": {
        "template": {
         "data": {
          "histogram2dcontour": [
           {
            "type": "histogram2dcontour",
            "colorbar": {
             "outlinewidth": 0,
             "ticks": ""
            },
            "colorscale": [
             [
              0.0,
              "#0d0887"
             ],
             [
              0.1111111111111111,
              "#46039f"
             ],
             [
              0.2222222222222222,
              "#7201a8"
             ],
             [
              0.3333333333333333,
              "#9c179e"
             ],
             [
              0.4444444444444444,
              "#bd3786"
             ],
             [
              0.5555555555555556,
              "#d8576b"
             ],
             [
              0.6666666666666666,
              "#ed7953"
             ],
             [
              0.7777777777777778,
              "#fb9f3a"
             ],
             [
              0.8888888888888888,
              "#fdca26"
             ],
             [
              1.0,
              "#f0f921"
             ]
            ]
           }
          ],
          "choropleth": [
           {
            "type": "choropleth",
            "colorbar": {
             "outlinewidth": 0,
             "ticks": ""
            }
           }
          ],
          "histogram2d": [
           {
            "type": "histogram2d",
            "colorbar": {
             "outlinewidth": 0,
             "ticks": ""
            },
            "colorscale": [
             [
              0.0,
              "#0d0887"
             ],
             [
              0.1111111111111111,
              "#46039f"
             ],
             [
              0.2222222222222222,
              "#7201a8"
             ],
             [
              0.3333333333333333,
              "#9c179e"
             ],
             [
              0.4444444444444444,
              "#bd3786"
             ],
             [
              0.5555555555555556,
              "#d8576b"
             ],
             [
              0.6666666666666666,
              "#ed7953"
             ],
             [
              0.7777777777777778,
              "#fb9f3a"
             ],
             [
              0.8888888888888888,
              "#fdca26"
             ],
             [
              1.0,
              "#f0f921"
             ]
            ]
           }
          ],
          "heatmap": [
           {
            "type": "heatmap",
            "colorbar": {
             "outlinewidth": 0,
             "ticks": ""
            },
            "colorscale": [
             [
              0.0,
              "#0d0887"
             ],
             [
              0.1111111111111111,
              "#46039f"
             ],
             [
              0.2222222222222222,
              "#7201a8"
             ],
             [
              0.3333333333333333,
              "#9c179e"
             ],
             [
              0.4444444444444444,
              "#bd3786"
             ],
             [
              0.5555555555555556,
              "#d8576b"
             ],
             [
              0.6666666666666666,
              "#ed7953"
             ],
             [
              0.7777777777777778,
              "#fb9f3a"
             ],
             [
              0.8888888888888888,
              "#fdca26"
             ],
             [
              1.0,
              "#f0f921"
             ]
            ]
           }
          ],
          "heatmapgl": [
           {
            "type": "heatmapgl",
            "colorbar": {
             "outlinewidth": 0,
             "ticks": ""
            },
            "colorscale": [
             [
              0.0,
              "#0d0887"
             ],
             [
              0.1111111111111111,
              "#46039f"
             ],
             [
              0.2222222222222222,
              "#7201a8"
             ],
             [
              0.3333333333333333,
              "#9c179e"
             ],
             [
              0.4444444444444444,
              "#bd3786"
             ],
             [
              0.5555555555555556,
              "#d8576b"
             ],
             [
              0.6666666666666666,
              "#ed7953"
             ],
             [
              0.7777777777777778,
              "#fb9f3a"
             ],
             [
              0.8888888888888888,
              "#fdca26"
             ],
             [
              1.0,
              "#f0f921"
             ]
            ]
           }
          ],
          "contourcarpet": [
           {
            "type": "contourcarpet",
            "colorbar": {
             "outlinewidth": 0,
             "ticks": ""
            }
           }
          ],
          "contour": [
           {
            "type": "contour",
            "colorbar": {
             "outlinewidth": 0,
             "ticks": ""
            },
            "colorscale": [
             [
              0.0,
              "#0d0887"
             ],
             [
              0.1111111111111111,
              "#46039f"
             ],
             [
              0.2222222222222222,
              "#7201a8"
             ],
             [
              0.3333333333333333,
              "#9c179e"
             ],
             [
              0.4444444444444444,
              "#bd3786"
             ],
             [
              0.5555555555555556,
              "#d8576b"
             ],
             [
              0.6666666666666666,
              "#ed7953"
             ],
             [
              0.7777777777777778,
              "#fb9f3a"
             ],
             [
              0.8888888888888888,
              "#fdca26"
             ],
             [
              1.0,
              "#f0f921"
             ]
            ]
           }
          ],
          "surface": [
           {
            "type": "surface",
            "colorbar": {
             "outlinewidth": 0,
             "ticks": ""
            },
            "colorscale": [
             [
              0.0,
              "#0d0887"
             ],
             [
              0.1111111111111111,
              "#46039f"
             ],
             [
              0.2222222222222222,
              "#7201a8"
             ],
             [
              0.3333333333333333,
              "#9c179e"
             ],
             [
              0.4444444444444444,
              "#bd3786"
             ],
             [
              0.5555555555555556,
              "#d8576b"
             ],
             [
              0.6666666666666666,
              "#ed7953"
             ],
             [
              0.7777777777777778,
              "#fb9f3a"
             ],
             [
              0.8888888888888888,
              "#fdca26"
             ],
             [
              1.0,
              "#f0f921"
             ]
            ]
           }
          ],
          "mesh3d": [
           {
            "type": "mesh3d",
            "colorbar": {
             "outlinewidth": 0,
             "ticks": ""
            }
           }
          ],
          "scatter": [
           {
            "fillpattern": {
             "fillmode": "overlay",
             "size": 10,
             "solidity": 0.2
            },
            "type": "scatter"
           }
          ],
          "parcoords": [
           {
            "type": "parcoords",
            "line": {
             "colorbar": {
              "outlinewidth": 0,
              "ticks": ""
             }
            }
           }
          ],
          "scatterpolargl": [
           {
            "type": "scatterpolargl",
            "marker": {
             "colorbar": {
              "outlinewidth": 0,
              "ticks": ""
             }
            }
           }
          ],
          "bar": [
           {
            "error_x": {
             "color": "#2a3f5f"
            },
            "error_y": {
             "color": "#2a3f5f"
            },
            "marker": {
             "line": {
              "color": "#E5ECF6",
              "width": 0.5
             },
             "pattern": {
              "fillmode": "overlay",
              "size": 10,
              "solidity": 0.2
             }
            },
            "type": "bar"
           }
          ],
          "scattergeo": [
           {
            "type": "scattergeo",
            "marker": {
             "colorbar": {
              "outlinewidth": 0,
              "ticks": ""
             }
            }
           }
          ],
          "scatterpolar": [
           {
            "type": "scatterpolar",
            "marker": {
             "colorbar": {
              "outlinewidth": 0,
              "ticks": ""
             }
            }
           }
          ],
          "histogram": [
           {
            "marker": {
             "pattern": {
              "fillmode": "overlay",
              "size": 10,
              "solidity": 0.2
             }
            },
            "type": "histogram"
           }
          ],
          "scattergl": [
           {
            "type": "scattergl",
            "marker": {
             "colorbar": {
              "outlinewidth": 0,
              "ticks": ""
             }
            }
           }
          ],
          "scatter3d": [
           {
            "type": "scatter3d",
            "line": {
             "colorbar": {
              "outlinewidth": 0,
              "ticks": ""
             }
            },
            "marker": {
             "colorbar": {
              "outlinewidth": 0,
              "ticks": ""
             }
            }
           }
          ],
          "scattermapbox": [
           {
            "type": "scattermapbox",
            "marker": {
             "colorbar": {
              "outlinewidth": 0,
              "ticks": ""
             }
            }
           }
          ],
          "scatterternary": [
           {
            "type": "scatterternary",
            "marker": {
             "colorbar": {
              "outlinewidth": 0,
              "ticks": ""
             }
            }
           }
          ],
          "scattercarpet": [
           {
            "type": "scattercarpet",
            "marker": {
             "colorbar": {
              "outlinewidth": 0,
              "ticks": ""
             }
            }
           }
          ],
          "carpet": [
           {
            "aaxis": {
             "endlinecolor": "#2a3f5f",
             "gridcolor": "white",
             "linecolor": "white",
             "minorgridcolor": "white",
             "startlinecolor": "#2a3f5f"
            },
            "baxis": {
             "endlinecolor": "#2a3f5f",
             "gridcolor": "white",
             "linecolor": "white",
             "minorgridcolor": "white",
             "startlinecolor": "#2a3f5f"
            },
            "type": "carpet"
           }
          ],
          "table": [
           {
            "cells": {
             "fill": {
              "color": "#EBF0F8"
             },
             "line": {
              "color": "white"
             }
            },
            "header": {
             "fill": {
              "color": "#C8D4E3"
             },
             "line": {
              "color": "white"
             }
            },
            "type": "table"
           }
          ],
          "barpolar": [
           {
            "marker": {
             "line": {
              "color": "#E5ECF6",
              "width": 0.5
             },
             "pattern": {
              "fillmode": "overlay",
              "size": 10,
              "solidity": 0.2
             }
            },
            "type": "barpolar"
           }
          ],
          "pie": [
           {
            "automargin": true,
            "type": "pie"
           }
          ]
         },
         "layout": {
          "autotypenumbers": "strict",
          "colorway": [
           "#636efa",
           "#EF553B",
           "#00cc96",
           "#ab63fa",
           "#FFA15A",
           "#19d3f3",
           "#FF6692",
           "#B6E880",
           "#FF97FF",
           "#FECB52"
          ],
          "font": {
           "color": "#2a3f5f"
          },
          "hovermode": "closest",
          "hoverlabel": {
           "align": "left"
          },
          "paper_bgcolor": "white",
          "plot_bgcolor": "#E5ECF6",
          "polar": {
           "bgcolor": "#E5ECF6",
           "angularaxis": {
            "gridcolor": "white",
            "linecolor": "white",
            "ticks": ""
           },
           "radialaxis": {
            "gridcolor": "white",
            "linecolor": "white",
            "ticks": ""
           }
          },
          "ternary": {
           "bgcolor": "#E5ECF6",
           "aaxis": {
            "gridcolor": "white",
            "linecolor": "white",
            "ticks": ""
           },
           "baxis": {
            "gridcolor": "white",
            "linecolor": "white",
            "ticks": ""
           },
           "caxis": {
            "gridcolor": "white",
            "linecolor": "white",
            "ticks": ""
           }
          },
          "coloraxis": {
           "colorbar": {
            "outlinewidth": 0,
            "ticks": ""
           }
          },
          "colorscale": {
           "sequential": [
            [
             0.0,
             "#0d0887"
            ],
            [
             0.1111111111111111,
             "#46039f"
            ],
            [
             0.2222222222222222,
             "#7201a8"
            ],
            [
             0.3333333333333333,
             "#9c179e"
            ],
            [
             0.4444444444444444,
             "#bd3786"
            ],
            [
             0.5555555555555556,
             "#d8576b"
            ],
            [
             0.6666666666666666,
             "#ed7953"
            ],
            [
             0.7777777777777778,
             "#fb9f3a"
            ],
            [
             0.8888888888888888,
             "#fdca26"
            ],
            [
             1.0,
             "#f0f921"
            ]
           ],
           "sequentialminus": [
            [
             0.0,
             "#0d0887"
            ],
            [
             0.1111111111111111,
             "#46039f"
            ],
            [
             0.2222222222222222,
             "#7201a8"
            ],
            [
             0.3333333333333333,
             "#9c179e"
            ],
            [
             0.4444444444444444,
             "#bd3786"
            ],
            [
             0.5555555555555556,
             "#d8576b"
            ],
            [
             0.6666666666666666,
             "#ed7953"
            ],
            [
             0.7777777777777778,
             "#fb9f3a"
            ],
            [
             0.8888888888888888,
             "#fdca26"
            ],
            [
             1.0,
             "#f0f921"
            ]
           ],
           "diverging": [
            [
             0,
             "#8e0152"
            ],
            [
             0.1,
             "#c51b7d"
            ],
            [
             0.2,
             "#de77ae"
            ],
            [
             0.3,
             "#f1b6da"
            ],
            [
             0.4,
             "#fde0ef"
            ],
            [
             0.5,
             "#f7f7f7"
            ],
            [
             0.6,
             "#e6f5d0"
            ],
            [
             0.7,
             "#b8e186"
            ],
            [
             0.8,
             "#7fbc41"
            ],
            [
             0.9,
             "#4d9221"
            ],
            [
             1,
             "#276419"
            ]
           ]
          },
          "xaxis": {
           "gridcolor": "white",
           "linecolor": "white",
           "ticks": "",
           "title": {
            "standoff": 15
           },
           "zerolinecolor": "white",
           "automargin": true,
           "zerolinewidth": 2
          },
          "yaxis": {
           "gridcolor": "white",
           "linecolor": "white",
           "ticks": "",
           "title": {
            "standoff": 15
           },
           "zerolinecolor": "white",
           "automargin": true,
           "zerolinewidth": 2
          },
          "scene": {
           "xaxis": {
            "backgroundcolor": "#E5ECF6",
            "gridcolor": "white",
            "linecolor": "white",
            "showbackground": true,
            "ticks": "",
            "zerolinecolor": "white",
            "gridwidth": 2
           },
           "yaxis": {
            "backgroundcolor": "#E5ECF6",
            "gridcolor": "white",
            "linecolor": "white",
            "showbackground": true,
            "ticks": "",
            "zerolinecolor": "white",
            "gridwidth": 2
           },
           "zaxis": {
            "backgroundcolor": "#E5ECF6",
            "gridcolor": "white",
            "linecolor": "white",
            "showbackground": true,
            "ticks": "",
            "zerolinecolor": "white",
            "gridwidth": 2
           }
          },
          "shapedefaults": {
           "line": {
            "color": "#2a3f5f"
           }
          },
          "annotationdefaults": {
           "arrowcolor": "#2a3f5f",
           "arrowhead": 0,
           "arrowwidth": 1
          },
          "geo": {
           "bgcolor": "white",
           "landcolor": "#E5ECF6",
           "subunitcolor": "white",
           "showland": true,
           "showlakes": true,
           "lakecolor": "white"
          },
          "title": {
           "x": 0.05
          },
          "mapbox": {
           "style": "light"
          }
         }
        },
        "xaxis": {
         "anchor": "y",
         "domain": [
          0.0,
          1.0
         ],
         "title": {
          "text": "MANUFACTURING_CITY"
         }
        },
        "yaxis": {
         "anchor": "x",
         "domain": [
          0.0,
          1.0
         ],
         "title": {
          "text": "VEHICLES_SOLD_COUNT"
         }
        },
        "legend": {
         "title": {
          "text": "VEHICLE_MODEL"
         },
         "tracegroupgap": 0
        },
        "margin": {
         "t": 60
        },
        "barmode": "relative"
       },
       "config": {
        "plotlyServerURL": "https://plot.ly"
       }
      },
      "text/html": [
       "<div>                            <div id=\"283b60a6-8acf-45b4-8073-128689070838\" class=\"plotly-graph-div\" style=\"height:525px; width:100%;\"></div>            <script type=\"text/javascript\">                require([\"plotly\"], function(Plotly) {                    window.PLOTLYENV=window.PLOTLYENV || {};                                    if (document.getElementById(\"283b60a6-8acf-45b4-8073-128689070838\")) {                    Plotly.newPlot(                        \"283b60a6-8acf-45b4-8073-128689070838\",                        [{\"alignmentgroup\":\"True\",\"hovertemplate\":\"VEHICLE_MODEL=HL5\\u003cbr\\u003eMANUFACTURING_CITY=%{x}\\u003cbr\\u003eVEHICLES_SOLD_COUNT=%{y}\\u003cextra\\u003e\\u003c\\u002fextra\\u003e\",\"legendgroup\":\"HL5\",\"marker\":{\"color\":\"#636efa\",\"pattern\":{\"shape\":\"\"}},\"name\":\"HL5\",\"offsetgroup\":\"HL5\",\"orientation\":\"v\",\"showlegend\":true,\"textposition\":\"auto\",\"x\":[\"Detroit\",\"Munich\",\"Tokyo\",\"Detroit\",\"Munich\",\"Tokyo\",\"Detroit\",\"Munich\",\"Tokyo\"],\"xaxis\":\"x\",\"y\":[61282,150906,922086,17217,142913,609153,20340,440379,2104376],\"yaxis\":\"y\",\"type\":\"bar\"},{\"alignmentgroup\":\"True\",\"hovertemplate\":\"VEHICLE_MODEL=PX8\\u003cbr\\u003eMANUFACTURING_CITY=%{x}\\u003cbr\\u003eVEHICLES_SOLD_COUNT=%{y}\\u003cextra\\u003e\\u003c\\u002fextra\\u003e\",\"legendgroup\":\"PX8\",\"marker\":{\"color\":\"#EF553B\",\"pattern\":{\"shape\":\"\"}},\"name\":\"PX8\",\"offsetgroup\":\"PX8\",\"orientation\":\"v\",\"showlegend\":true,\"textposition\":\"auto\",\"x\":[\"Detroit\",\"Louisville\",\"Munich\",\"Tokyo\",\"Detroit\",\"Louisville\",\"Munich\",\"Tokyo\",\"Detroit\",\"Louisville\",\"Munich\",\"Tokyo\"],\"xaxis\":\"x\",\"y\":[39372,498902,152010,323846,21774,417472,27215,526728,32874,1117901,781520,1271581],\"yaxis\":\"y\",\"type\":\"bar\"},{\"alignmentgroup\":\"True\",\"hovertemplate\":\"VEHICLE_MODEL=VC3\\u003cbr\\u003eMANUFACTURING_CITY=%{x}\\u003cbr\\u003eVEHICLES_SOLD_COUNT=%{y}\\u003cextra\\u003e\\u003c\\u002fextra\\u003e\",\"legendgroup\":\"VC3\",\"marker\":{\"color\":\"#00cc96\",\"pattern\":{\"shape\":\"\"}},\"name\":\"VC3\",\"offsetgroup\":\"VC3\",\"orientation\":\"v\",\"showlegend\":true,\"textposition\":\"auto\",\"x\":[\"Louisville\",\"Munich\",\"Louisville\",\"Munich\",\"Louisville\",\"Munich\"],\"xaxis\":\"x\",\"y\":[68950,515742,8526,919885,152905,1813832],\"yaxis\":\"y\",\"type\":\"bar\"},{\"alignmentgroup\":\"True\",\"hovertemplate\":\"VEHICLE_MODEL=XN7\\u003cbr\\u003eMANUFACTURING_CITY=%{x}\\u003cbr\\u003eVEHICLES_SOLD_COUNT=%{y}\\u003cextra\\u003e\\u003c\\u002fextra\\u003e\",\"legendgroup\":\"XN7\",\"marker\":{\"color\":\"#ab63fa\",\"pattern\":{\"shape\":\"\"}},\"name\":\"XN7\",\"offsetgroup\":\"XN7\",\"orientation\":\"v\",\"showlegend\":true,\"textposition\":\"auto\",\"x\":[\"Detroit\",\"Louisville\",\"Munich\",\"Tokyo\",\"Toluca\",\"Toronto\",\"Detroit\",\"Louisville\",\"Munich\",\"Tokyo\",\"Toronto\",\"Detroit\",\"Louisville\",\"Munich\",\"Tokyo\"],\"xaxis\":\"x\",\"y\":[701464,103646,1247532,809959,368430,182371,654547,219006,887710,1183227,1001816,2087465,442976,4294079,4542355],\"yaxis\":\"y\",\"type\":\"bar\"}],                        {\"template\":{\"data\":{\"histogram2dcontour\":[{\"type\":\"histogram2dcontour\",\"colorbar\":{\"outlinewidth\":0,\"ticks\":\"\"},\"colorscale\":[[0.0,\"#0d0887\"],[0.1111111111111111,\"#46039f\"],[0.2222222222222222,\"#7201a8\"],[0.3333333333333333,\"#9c179e\"],[0.4444444444444444,\"#bd3786\"],[0.5555555555555556,\"#d8576b\"],[0.6666666666666666,\"#ed7953\"],[0.7777777777777778,\"#fb9f3a\"],[0.8888888888888888,\"#fdca26\"],[1.0,\"#f0f921\"]]}],\"choropleth\":[{\"type\":\"choropleth\",\"colorbar\":{\"outlinewidth\":0,\"ticks\":\"\"}}],\"histogram2d\":[{\"type\":\"histogram2d\",\"colorbar\":{\"outlinewidth\":0,\"ticks\":\"\"},\"colorscale\":[[0.0,\"#0d0887\"],[0.1111111111111111,\"#46039f\"],[0.2222222222222222,\"#7201a8\"],[0.3333333333333333,\"#9c179e\"],[0.4444444444444444,\"#bd3786\"],[0.5555555555555556,\"#d8576b\"],[0.6666666666666666,\"#ed7953\"],[0.7777777777777778,\"#fb9f3a\"],[0.8888888888888888,\"#fdca26\"],[1.0,\"#f0f921\"]]}],\"heatmap\":[{\"type\":\"heatmap\",\"colorbar\":{\"outlinewidth\":0,\"ticks\":\"\"},\"colorscale\":[[0.0,\"#0d0887\"],[0.1111111111111111,\"#46039f\"],[0.2222222222222222,\"#7201a8\"],[0.3333333333333333,\"#9c179e\"],[0.4444444444444444,\"#bd3786\"],[0.5555555555555556,\"#d8576b\"],[0.6666666666666666,\"#ed7953\"],[0.7777777777777778,\"#fb9f3a\"],[0.8888888888888888,\"#fdca26\"],[1.0,\"#f0f921\"]]}],\"heatmapgl\":[{\"type\":\"heatmapgl\",\"colorbar\":{\"outlinewidth\":0,\"ticks\":\"\"},\"colorscale\":[[0.0,\"#0d0887\"],[0.1111111111111111,\"#46039f\"],[0.2222222222222222,\"#7201a8\"],[0.3333333333333333,\"#9c179e\"],[0.4444444444444444,\"#bd3786\"],[0.5555555555555556,\"#d8576b\"],[0.6666666666666666,\"#ed7953\"],[0.7777777777777778,\"#fb9f3a\"],[0.8888888888888888,\"#fdca26\"],[1.0,\"#f0f921\"]]}],\"contourcarpet\":[{\"type\":\"contourcarpet\",\"colorbar\":{\"outlinewidth\":0,\"ticks\":\"\"}}],\"contour\":[{\"type\":\"contour\",\"colorbar\":{\"outlinewidth\":0,\"ticks\":\"\"},\"colorscale\":[[0.0,\"#0d0887\"],[0.1111111111111111,\"#46039f\"],[0.2222222222222222,\"#7201a8\"],[0.3333333333333333,\"#9c179e\"],[0.4444444444444444,\"#bd3786\"],[0.5555555555555556,\"#d8576b\"],[0.6666666666666666,\"#ed7953\"],[0.7777777777777778,\"#fb9f3a\"],[0.8888888888888888,\"#fdca26\"],[1.0,\"#f0f921\"]]}],\"surface\":[{\"type\":\"surface\",\"colorbar\":{\"outlinewidth\":0,\"ticks\":\"\"},\"colorscale\":[[0.0,\"#0d0887\"],[0.1111111111111111,\"#46039f\"],[0.2222222222222222,\"#7201a8\"],[0.3333333333333333,\"#9c179e\"],[0.4444444444444444,\"#bd3786\"],[0.5555555555555556,\"#d8576b\"],[0.6666666666666666,\"#ed7953\"],[0.7777777777777778,\"#fb9f3a\"],[0.8888888888888888,\"#fdca26\"],[1.0,\"#f0f921\"]]}],\"mesh3d\":[{\"type\":\"mesh3d\",\"colorbar\":{\"outlinewidth\":0,\"ticks\":\"\"}}],\"scatter\":[{\"fillpattern\":{\"fillmode\":\"overlay\",\"size\":10,\"solidity\":0.2},\"type\":\"scatter\"}],\"parcoords\":[{\"type\":\"parcoords\",\"line\":{\"colorbar\":{\"outlinewidth\":0,\"ticks\":\"\"}}}],\"scatterpolargl\":[{\"type\":\"scatterpolargl\",\"marker\":{\"colorbar\":{\"outlinewidth\":0,\"ticks\":\"\"}}}],\"bar\":[{\"error_x\":{\"color\":\"#2a3f5f\"},\"error_y\":{\"color\":\"#2a3f5f\"},\"marker\":{\"line\":{\"color\":\"#E5ECF6\",\"width\":0.5},\"pattern\":{\"fillmode\":\"overlay\",\"size\":10,\"solidity\":0.2}},\"type\":\"bar\"}],\"scattergeo\":[{\"type\":\"scattergeo\",\"marker\":{\"colorbar\":{\"outlinewidth\":0,\"ticks\":\"\"}}}],\"scatterpolar\":[{\"type\":\"scatterpolar\",\"marker\":{\"colorbar\":{\"outlinewidth\":0,\"ticks\":\"\"}}}],\"histogram\":[{\"marker\":{\"pattern\":{\"fillmode\":\"overlay\",\"size\":10,\"solidity\":0.2}},\"type\":\"histogram\"}],\"scattergl\":[{\"type\":\"scattergl\",\"marker\":{\"colorbar\":{\"outlinewidth\":0,\"ticks\":\"\"}}}],\"scatter3d\":[{\"type\":\"scatter3d\",\"line\":{\"colorbar\":{\"outlinewidth\":0,\"ticks\":\"\"}},\"marker\":{\"colorbar\":{\"outlinewidth\":0,\"ticks\":\"\"}}}],\"scattermapbox\":[{\"type\":\"scattermapbox\",\"marker\":{\"colorbar\":{\"outlinewidth\":0,\"ticks\":\"\"}}}],\"scatterternary\":[{\"type\":\"scatterternary\",\"marker\":{\"colorbar\":{\"outlinewidth\":0,\"ticks\":\"\"}}}],\"scattercarpet\":[{\"type\":\"scattercarpet\",\"marker\":{\"colorbar\":{\"outlinewidth\":0,\"ticks\":\"\"}}}],\"carpet\":[{\"aaxis\":{\"endlinecolor\":\"#2a3f5f\",\"gridcolor\":\"white\",\"linecolor\":\"white\",\"minorgridcolor\":\"white\",\"startlinecolor\":\"#2a3f5f\"},\"baxis\":{\"endlinecolor\":\"#2a3f5f\",\"gridcolor\":\"white\",\"linecolor\":\"white\",\"minorgridcolor\":\"white\",\"startlinecolor\":\"#2a3f5f\"},\"type\":\"carpet\"}],\"table\":[{\"cells\":{\"fill\":{\"color\":\"#EBF0F8\"},\"line\":{\"color\":\"white\"}},\"header\":{\"fill\":{\"color\":\"#C8D4E3\"},\"line\":{\"color\":\"white\"}},\"type\":\"table\"}],\"barpolar\":[{\"marker\":{\"line\":{\"color\":\"#E5ECF6\",\"width\":0.5},\"pattern\":{\"fillmode\":\"overlay\",\"size\":10,\"solidity\":0.2}},\"type\":\"barpolar\"}],\"pie\":[{\"automargin\":true,\"type\":\"pie\"}]},\"layout\":{\"autotypenumbers\":\"strict\",\"colorway\":[\"#636efa\",\"#EF553B\",\"#00cc96\",\"#ab63fa\",\"#FFA15A\",\"#19d3f3\",\"#FF6692\",\"#B6E880\",\"#FF97FF\",\"#FECB52\"],\"font\":{\"color\":\"#2a3f5f\"},\"hovermode\":\"closest\",\"hoverlabel\":{\"align\":\"left\"},\"paper_bgcolor\":\"white\",\"plot_bgcolor\":\"#E5ECF6\",\"polar\":{\"bgcolor\":\"#E5ECF6\",\"angularaxis\":{\"gridcolor\":\"white\",\"linecolor\":\"white\",\"ticks\":\"\"},\"radialaxis\":{\"gridcolor\":\"white\",\"linecolor\":\"white\",\"ticks\":\"\"}},\"ternary\":{\"bgcolor\":\"#E5ECF6\",\"aaxis\":{\"gridcolor\":\"white\",\"linecolor\":\"white\",\"ticks\":\"\"},\"baxis\":{\"gridcolor\":\"white\",\"linecolor\":\"white\",\"ticks\":\"\"},\"caxis\":{\"gridcolor\":\"white\",\"linecolor\":\"white\",\"ticks\":\"\"}},\"coloraxis\":{\"colorbar\":{\"outlinewidth\":0,\"ticks\":\"\"}},\"colorscale\":{\"sequential\":[[0.0,\"#0d0887\"],[0.1111111111111111,\"#46039f\"],[0.2222222222222222,\"#7201a8\"],[0.3333333333333333,\"#9c179e\"],[0.4444444444444444,\"#bd3786\"],[0.5555555555555556,\"#d8576b\"],[0.6666666666666666,\"#ed7953\"],[0.7777777777777778,\"#fb9f3a\"],[0.8888888888888888,\"#fdca26\"],[1.0,\"#f0f921\"]],\"sequentialminus\":[[0.0,\"#0d0887\"],[0.1111111111111111,\"#46039f\"],[0.2222222222222222,\"#7201a8\"],[0.3333333333333333,\"#9c179e\"],[0.4444444444444444,\"#bd3786\"],[0.5555555555555556,\"#d8576b\"],[0.6666666666666666,\"#ed7953\"],[0.7777777777777778,\"#fb9f3a\"],[0.8888888888888888,\"#fdca26\"],[1.0,\"#f0f921\"]],\"diverging\":[[0,\"#8e0152\"],[0.1,\"#c51b7d\"],[0.2,\"#de77ae\"],[0.3,\"#f1b6da\"],[0.4,\"#fde0ef\"],[0.5,\"#f7f7f7\"],[0.6,\"#e6f5d0\"],[0.7,\"#b8e186\"],[0.8,\"#7fbc41\"],[0.9,\"#4d9221\"],[1,\"#276419\"]]},\"xaxis\":{\"gridcolor\":\"white\",\"linecolor\":\"white\",\"ticks\":\"\",\"title\":{\"standoff\":15},\"zerolinecolor\":\"white\",\"automargin\":true,\"zerolinewidth\":2},\"yaxis\":{\"gridcolor\":\"white\",\"linecolor\":\"white\",\"ticks\":\"\",\"title\":{\"standoff\":15},\"zerolinecolor\":\"white\",\"automargin\":true,\"zerolinewidth\":2},\"scene\":{\"xaxis\":{\"backgroundcolor\":\"#E5ECF6\",\"gridcolor\":\"white\",\"linecolor\":\"white\",\"showbackground\":true,\"ticks\":\"\",\"zerolinecolor\":\"white\",\"gridwidth\":2},\"yaxis\":{\"backgroundcolor\":\"#E5ECF6\",\"gridcolor\":\"white\",\"linecolor\":\"white\",\"showbackground\":true,\"ticks\":\"\",\"zerolinecolor\":\"white\",\"gridwidth\":2},\"zaxis\":{\"backgroundcolor\":\"#E5ECF6\",\"gridcolor\":\"white\",\"linecolor\":\"white\",\"showbackground\":true,\"ticks\":\"\",\"zerolinecolor\":\"white\",\"gridwidth\":2}},\"shapedefaults\":{\"line\":{\"color\":\"#2a3f5f\"}},\"annotationdefaults\":{\"arrowcolor\":\"#2a3f5f\",\"arrowhead\":0,\"arrowwidth\":1},\"geo\":{\"bgcolor\":\"white\",\"landcolor\":\"#E5ECF6\",\"subunitcolor\":\"white\",\"showland\":true,\"showlakes\":true,\"lakecolor\":\"white\"},\"title\":{\"x\":0.05},\"mapbox\":{\"style\":\"light\"}}},\"xaxis\":{\"anchor\":\"y\",\"domain\":[0.0,1.0],\"title\":{\"text\":\"MANUFACTURING_CITY\"}},\"yaxis\":{\"anchor\":\"x\",\"domain\":[0.0,1.0],\"title\":{\"text\":\"VEHICLES_SOLD_COUNT\"}},\"legend\":{\"title\":{\"text\":\"VEHICLE_MODEL\"},\"tracegroupgap\":0},\"margin\":{\"t\":60},\"barmode\":\"relative\"},                        {\"responsive\": true}                    ).then(function(){\n",
       "                            \n",
       "var gd = document.getElementById('283b60a6-8acf-45b4-8073-128689070838');\n",
       "var x = new MutationObserver(function (mutations, observer) {{\n",
       "        var display = window.getComputedStyle(gd).display;\n",
       "        if (!display || display === 'none') {{\n",
       "            console.log([gd, 'removed!']);\n",
       "            Plotly.purge(gd);\n",
       "            observer.disconnect();\n",
       "        }}\n",
       "}});\n",
       "\n",
       "// Listen for the removal of the full notebook cells\n",
       "var notebookContainer = gd.closest('#notebook-container');\n",
       "if (notebookContainer) {{\n",
       "    x.observe(notebookContainer, {childList: true});\n",
       "}}\n",
       "\n",
       "// Listen for the clearing of the current output cell\n",
       "var outputEl = gd.closest('.output');\n",
       "if (outputEl) {{\n",
       "    x.observe(outputEl, {childList: true});\n",
       "}}\n",
       "\n",
       "                        })                };                });            </script>        </div>"
      ]
     },
     "metadata": {},
     "output_type": "display_data"
    }
   ],
   "execution_count": 187
  },
  {
   "metadata": {
    "ExecuteTime": {
     "end_time": "2024-09-05T19:01:47.670569Z",
     "start_time": "2024-09-05T19:01:47.663107Z"
    }
   },
   "cell_type": "code",
   "source": [
    "# In order to merge things together we need to drop the week column because that doesn't exist in the sales data. So let's group by the other things\n",
    "\n",
    "new_issues_df = issues_df.groupby(['VEHICLE_MODEL'])['ISSUE_COUNT'].sum().reset_index()\n",
    "new_issues_df.head(100)"
   ],
   "id": "1b5d9cf10d4be461",
   "outputs": [
    {
     "data": {
      "text/plain": [
       "  VEHICLE_MODEL  ISSUE_COUNT\n",
       "0           HL5       445249\n",
       "1           PX8       568077\n",
       "2           VC3       110460\n",
       "3           XN7       497691"
      ],
      "text/html": [
       "<div>\n",
       "<style scoped>\n",
       "    .dataframe tbody tr th:only-of-type {\n",
       "        vertical-align: middle;\n",
       "    }\n",
       "\n",
       "    .dataframe tbody tr th {\n",
       "        vertical-align: top;\n",
       "    }\n",
       "\n",
       "    .dataframe thead th {\n",
       "        text-align: right;\n",
       "    }\n",
       "</style>\n",
       "<table border=\"1\" class=\"dataframe\">\n",
       "  <thead>\n",
       "    <tr style=\"text-align: right;\">\n",
       "      <th></th>\n",
       "      <th>VEHICLE_MODEL</th>\n",
       "      <th>ISSUE_COUNT</th>\n",
       "    </tr>\n",
       "  </thead>\n",
       "  <tbody>\n",
       "    <tr>\n",
       "      <th>0</th>\n",
       "      <td>HL5</td>\n",
       "      <td>445249</td>\n",
       "    </tr>\n",
       "    <tr>\n",
       "      <th>1</th>\n",
       "      <td>PX8</td>\n",
       "      <td>568077</td>\n",
       "    </tr>\n",
       "    <tr>\n",
       "      <th>2</th>\n",
       "      <td>VC3</td>\n",
       "      <td>110460</td>\n",
       "    </tr>\n",
       "    <tr>\n",
       "      <th>3</th>\n",
       "      <td>XN7</td>\n",
       "      <td>497691</td>\n",
       "    </tr>\n",
       "  </tbody>\n",
       "</table>\n",
       "</div>"
      ]
     },
     "execution_count": 188,
     "metadata": {},
     "output_type": "execute_result"
    }
   ],
   "execution_count": 188
  },
  {
   "metadata": {
    "ExecuteTime": {
     "end_time": "2024-09-05T19:01:47.830449Z",
     "start_time": "2024-09-05T19:01:47.826550Z"
    }
   },
   "cell_type": "code",
   "source": [
    "# Let's do the same to sales\n",
    "new_sales_df = sales_df.groupby(['VEHICLE_MODEL'])['VEHICLES_SOLD_COUNT'].sum().reset_index()\n",
    "new_sales_df.head(100)"
   ],
   "id": "b1cfdd9d7119aca",
   "outputs": [
    {
     "data": {
      "text/plain": [
       "  VEHICLE_MODEL  VEHICLES_SOLD_COUNT\n",
       "0           HL5              4468652\n",
       "1           PX8              5211195\n",
       "2           VC3              3479840\n",
       "3           XN7             18726583"
      ],
      "text/html": [
       "<div>\n",
       "<style scoped>\n",
       "    .dataframe tbody tr th:only-of-type {\n",
       "        vertical-align: middle;\n",
       "    }\n",
       "\n",
       "    .dataframe tbody tr th {\n",
       "        vertical-align: top;\n",
       "    }\n",
       "\n",
       "    .dataframe thead th {\n",
       "        text-align: right;\n",
       "    }\n",
       "</style>\n",
       "<table border=\"1\" class=\"dataframe\">\n",
       "  <thead>\n",
       "    <tr style=\"text-align: right;\">\n",
       "      <th></th>\n",
       "      <th>VEHICLE_MODEL</th>\n",
       "      <th>VEHICLES_SOLD_COUNT</th>\n",
       "    </tr>\n",
       "  </thead>\n",
       "  <tbody>\n",
       "    <tr>\n",
       "      <th>0</th>\n",
       "      <td>HL5</td>\n",
       "      <td>4468652</td>\n",
       "    </tr>\n",
       "    <tr>\n",
       "      <th>1</th>\n",
       "      <td>PX8</td>\n",
       "      <td>5211195</td>\n",
       "    </tr>\n",
       "    <tr>\n",
       "      <th>2</th>\n",
       "      <td>VC3</td>\n",
       "      <td>3479840</td>\n",
       "    </tr>\n",
       "    <tr>\n",
       "      <th>3</th>\n",
       "      <td>XN7</td>\n",
       "      <td>18726583</td>\n",
       "    </tr>\n",
       "  </tbody>\n",
       "</table>\n",
       "</div>"
      ]
     },
     "execution_count": 189,
     "metadata": {},
     "output_type": "execute_result"
    }
   ],
   "execution_count": 189
  },
  {
   "metadata": {
    "ExecuteTime": {
     "end_time": "2024-09-05T19:01:47.897457Z",
     "start_time": "2024-09-05T19:01:47.893301Z"
    }
   },
   "cell_type": "code",
   "source": [
    "# Let's merge things together\n",
    "#First let's remove the time component from the issue data\n",
    "\n",
    "merged_df = new_issues_df.merge(new_sales_df,how='left',on='VEHICLE_MODEL')\n",
    "merged_df.head()"
   ],
   "id": "298506a494c545c8",
   "outputs": [
    {
     "data": {
      "text/plain": [
       "  VEHICLE_MODEL  ISSUE_COUNT  VEHICLES_SOLD_COUNT\n",
       "0           HL5       445249              4468652\n",
       "1           PX8       568077              5211195\n",
       "2           VC3       110460              3479840\n",
       "3           XN7       497691             18726583"
      ],
      "text/html": [
       "<div>\n",
       "<style scoped>\n",
       "    .dataframe tbody tr th:only-of-type {\n",
       "        vertical-align: middle;\n",
       "    }\n",
       "\n",
       "    .dataframe tbody tr th {\n",
       "        vertical-align: top;\n",
       "    }\n",
       "\n",
       "    .dataframe thead th {\n",
       "        text-align: right;\n",
       "    }\n",
       "</style>\n",
       "<table border=\"1\" class=\"dataframe\">\n",
       "  <thead>\n",
       "    <tr style=\"text-align: right;\">\n",
       "      <th></th>\n",
       "      <th>VEHICLE_MODEL</th>\n",
       "      <th>ISSUE_COUNT</th>\n",
       "      <th>VEHICLES_SOLD_COUNT</th>\n",
       "    </tr>\n",
       "  </thead>\n",
       "  <tbody>\n",
       "    <tr>\n",
       "      <th>0</th>\n",
       "      <td>HL5</td>\n",
       "      <td>445249</td>\n",
       "      <td>4468652</td>\n",
       "    </tr>\n",
       "    <tr>\n",
       "      <th>1</th>\n",
       "      <td>PX8</td>\n",
       "      <td>568077</td>\n",
       "      <td>5211195</td>\n",
       "    </tr>\n",
       "    <tr>\n",
       "      <th>2</th>\n",
       "      <td>VC3</td>\n",
       "      <td>110460</td>\n",
       "      <td>3479840</td>\n",
       "    </tr>\n",
       "    <tr>\n",
       "      <th>3</th>\n",
       "      <td>XN7</td>\n",
       "      <td>497691</td>\n",
       "      <td>18726583</td>\n",
       "    </tr>\n",
       "  </tbody>\n",
       "</table>\n",
       "</div>"
      ]
     },
     "execution_count": 190,
     "metadata": {},
     "output_type": "execute_result"
    }
   ],
   "execution_count": 190
  },
  {
   "metadata": {
    "ExecuteTime": {
     "end_time": "2024-09-05T19:01:47.973332Z",
     "start_time": "2024-09-05T19:01:47.969503Z"
    }
   },
   "cell_type": "code",
   "source": [
    "merged_df['ISSUE_RATE']=merged_df['ISSUE_COUNT']/merged_df['VEHICLES_SOLD_COUNT']\n",
    "merged_df.head()"
   ],
   "id": "153684db1f4966b1",
   "outputs": [
    {
     "data": {
      "text/plain": [
       "  VEHICLE_MODEL  ISSUE_COUNT  VEHICLES_SOLD_COUNT  ISSUE_RATE\n",
       "0           HL5       445249              4468652    0.099638\n",
       "1           PX8       568077              5211195    0.109011\n",
       "2           VC3       110460              3479840    0.031743\n",
       "3           XN7       497691             18726583    0.026577"
      ],
      "text/html": [
       "<div>\n",
       "<style scoped>\n",
       "    .dataframe tbody tr th:only-of-type {\n",
       "        vertical-align: middle;\n",
       "    }\n",
       "\n",
       "    .dataframe tbody tr th {\n",
       "        vertical-align: top;\n",
       "    }\n",
       "\n",
       "    .dataframe thead th {\n",
       "        text-align: right;\n",
       "    }\n",
       "</style>\n",
       "<table border=\"1\" class=\"dataframe\">\n",
       "  <thead>\n",
       "    <tr style=\"text-align: right;\">\n",
       "      <th></th>\n",
       "      <th>VEHICLE_MODEL</th>\n",
       "      <th>ISSUE_COUNT</th>\n",
       "      <th>VEHICLES_SOLD_COUNT</th>\n",
       "      <th>ISSUE_RATE</th>\n",
       "    </tr>\n",
       "  </thead>\n",
       "  <tbody>\n",
       "    <tr>\n",
       "      <th>0</th>\n",
       "      <td>HL5</td>\n",
       "      <td>445249</td>\n",
       "      <td>4468652</td>\n",
       "      <td>0.099638</td>\n",
       "    </tr>\n",
       "    <tr>\n",
       "      <th>1</th>\n",
       "      <td>PX8</td>\n",
       "      <td>568077</td>\n",
       "      <td>5211195</td>\n",
       "      <td>0.109011</td>\n",
       "    </tr>\n",
       "    <tr>\n",
       "      <th>2</th>\n",
       "      <td>VC3</td>\n",
       "      <td>110460</td>\n",
       "      <td>3479840</td>\n",
       "      <td>0.031743</td>\n",
       "    </tr>\n",
       "    <tr>\n",
       "      <th>3</th>\n",
       "      <td>XN7</td>\n",
       "      <td>497691</td>\n",
       "      <td>18726583</td>\n",
       "      <td>0.026577</td>\n",
       "    </tr>\n",
       "  </tbody>\n",
       "</table>\n",
       "</div>"
      ]
     },
     "execution_count": 191,
     "metadata": {},
     "output_type": "execute_result"
    }
   ],
   "execution_count": 191
  },
  {
   "metadata": {
    "ExecuteTime": {
     "end_time": "2024-09-05T19:01:48.076915Z",
     "start_time": "2024-09-05T19:01:48.072807Z"
    }
   },
   "cell_type": "code",
   "source": [
    "#Normalizing using z-scale\n",
    "\n",
    "standard_scaler = StandardScaler()\n",
    "merged_df['NORMALIZED_ISSUE_RATE'] = standard_scaler.fit_transform(merged_df[['ISSUE_RATE']])\n",
    "\n",
    "print(merged_df)"
   ],
   "id": "98c1fd54a09cfffb",
   "outputs": [
    {
     "name": "stdout",
     "output_type": "stream",
     "text": [
      "  VEHICLE_MODEL  ISSUE_COUNT  VEHICLES_SOLD_COUNT  ISSUE_RATE  \\\n",
      "0           HL5       445249              4468652    0.099638   \n",
      "1           PX8       568077              5211195    0.109011   \n",
      "2           VC3       110460              3479840    0.031743   \n",
      "3           XN7       497691             18726583    0.026577   \n",
      "\n",
      "   NORMALIZED_ISSUE_RATE  \n",
      "0               0.870904  \n",
      "1               1.119036  \n",
      "2              -0.926585  \n",
      "3              -1.063355  \n"
     ]
    }
   ],
   "execution_count": 192
  },
  {
   "metadata": {
    "ExecuteTime": {
     "end_time": "2024-09-05T19:01:48.156163Z",
     "start_time": "2024-09-05T19:01:48.154471Z"
    }
   },
   "cell_type": "code",
   "source": "# based on above, PX8 has the most significant issue rate",
   "id": "54e2c63f795eebd7",
   "outputs": [],
   "execution_count": 193
  },
  {
   "metadata": {},
   "cell_type": "markdown",
   "source": "## Time Series Anomaly Analysis",
   "id": "f754ad0573d65608"
  },
  {
   "metadata": {
    "ExecuteTime": {
     "end_time": "2024-09-05T19:01:48.216748Z",
     "start_time": "2024-09-05T19:01:48.207607Z"
    }
   },
   "cell_type": "code",
   "source": [
    "# Now let's do a time-series analysis\n",
    "# We need to group issue_count by week\n",
    "\n",
    "issues_timeseries_df = issues_df.groupby(['WEEK'])['ISSUE_COUNT'].sum().reset_index()\n",
    "issues_timeseries_df.head()"
   ],
   "id": "d59cf04059b572a7",
   "outputs": [
    {
     "data": {
      "text/plain": [
       "         WEEK  ISSUE_COUNT\n",
       "0  2021-09-19          134\n",
       "1  2021-09-26         1244\n",
       "2  2021-10-03         1891\n",
       "3  2021-10-10         2622\n",
       "4  2021-10-17         2901"
      ],
      "text/html": [
       "<div>\n",
       "<style scoped>\n",
       "    .dataframe tbody tr th:only-of-type {\n",
       "        vertical-align: middle;\n",
       "    }\n",
       "\n",
       "    .dataframe tbody tr th {\n",
       "        vertical-align: top;\n",
       "    }\n",
       "\n",
       "    .dataframe thead th {\n",
       "        text-align: right;\n",
       "    }\n",
       "</style>\n",
       "<table border=\"1\" class=\"dataframe\">\n",
       "  <thead>\n",
       "    <tr style=\"text-align: right;\">\n",
       "      <th></th>\n",
       "      <th>WEEK</th>\n",
       "      <th>ISSUE_COUNT</th>\n",
       "    </tr>\n",
       "  </thead>\n",
       "  <tbody>\n",
       "    <tr>\n",
       "      <th>0</th>\n",
       "      <td>2021-09-19</td>\n",
       "      <td>134</td>\n",
       "    </tr>\n",
       "    <tr>\n",
       "      <th>1</th>\n",
       "      <td>2021-09-26</td>\n",
       "      <td>1244</td>\n",
       "    </tr>\n",
       "    <tr>\n",
       "      <th>2</th>\n",
       "      <td>2021-10-03</td>\n",
       "      <td>1891</td>\n",
       "    </tr>\n",
       "    <tr>\n",
       "      <th>3</th>\n",
       "      <td>2021-10-10</td>\n",
       "      <td>2622</td>\n",
       "    </tr>\n",
       "    <tr>\n",
       "      <th>4</th>\n",
       "      <td>2021-10-17</td>\n",
       "      <td>2901</td>\n",
       "    </tr>\n",
       "  </tbody>\n",
       "</table>\n",
       "</div>"
      ]
     },
     "execution_count": 194,
     "metadata": {},
     "output_type": "execute_result"
    }
   ],
   "execution_count": 194
  },
  {
   "metadata": {
    "ExecuteTime": {
     "end_time": "2024-09-05T19:01:48.579611Z",
     "start_time": "2024-09-05T19:01:48.255128Z"
    }
   },
   "cell_type": "code",
   "source": [
    "# Now let's do a time-series analysis\n",
    "plt.figure(figsize=(12, 6))\n",
    "plt.plot(issues_timeseries_df['WEEK'], issues_timeseries_df['ISSUE_COUNT'], label='Issue_Count')\n",
    "plt.title('Time Series Data')\n",
    "plt.xlabel('Date')\n",
    "plt.ylabel('Value')\n",
    "plt.legend()\n",
    "plt.show()"
   ],
   "id": "218dc7139029e254",
   "outputs": [
    {
     "data": {
      "text/plain": [
       "<Figure size 1200x600 with 1 Axes>"
      ],
      "image/png": "[encoded data removed]"
     },
     "metadata": {},
     "output_type": "display_data"
    }
   ],
   "execution_count": 195
  },
  {
   "metadata": {
    "ExecuteTime": {
     "end_time": "2024-09-05T19:01:48.598939Z",
     "start_time": "2024-09-05T19:01:48.595398Z"
    }
   },
   "cell_type": "code",
   "source": [
    "#Now let's standardize using z-scale\n",
    "\n",
    "\n",
    "\n",
    "# Standardize the data\n",
    "scaler = StandardScaler()\n",
    "issues_timeseries_df['ISSUE_COUNT_SCALED'] = scaler.fit_transform(issues_timeseries_df[['ISSUE_COUNT']])\n"
   ],
   "id": "6cdd5b029775ec56",
   "outputs": [],
   "execution_count": 196
  },
  {
   "metadata": {
    "ExecuteTime": {
     "end_time": "2024-09-05T19:01:48.679994Z",
     "start_time": "2024-09-05T19:01:48.624452Z"
    }
   },
   "cell_type": "code",
   "source": [
    "# Fit the Isolation Forest model\n",
    "model = IsolationForest(contamination=0.1)  # Assume 10% anomalies\n",
    "issues_timeseries_df['ANOMALY'] = model.fit_predict(issues_timeseries_df[['ISSUE_COUNT_SCALED']])\n",
    "\n",
    "# Convert -1 (anomaly) and 1 (normal) to boolean\n",
    "issues_timeseries_df['ANOMALY'] = issues_timeseries_df['ANOMALY'] == -1"
   ],
   "id": "bd1d725493ee7080",
   "outputs": [],
   "execution_count": 197
  },
  {
   "metadata": {
    "ExecuteTime": {
     "end_time": "2024-09-05T19:01:48.812855Z",
     "start_time": "2024-09-05T19:01:48.710531Z"
    }
   },
   "cell_type": "code",
   "source": [
    "#Now let's plot\n",
    "\n",
    "plt.figure(figsize=(12, 6))\n",
    "plt.plot(issues_timeseries_df.index, issues_timeseries_df['ISSUE_COUNT'], label='ISSUE_COUNT')\n",
    "plt.scatter(issues_timeseries_df.index[issues_timeseries_df['ANOMALY']], issues_timeseries_df['ISSUE_COUNT'][issues_timeseries_df['ANOMALY']], color='red', label='ANOMALY')\n",
    "plt.title('Time Series with Anomalies')\n",
    "plt.xlabel('Week')\n",
    "plt.ylabel('Issue_Count')\n",
    "plt.legend()\n",
    "plt.show()\n"
   ],
   "id": "73c998f0985f80ed",
   "outputs": [
    {
     "data": {
      "text/plain": [
       "<Figure size 1200x600 with 1 Axes>"
      ],
      "image/png": "[encoded data removed]"
     },
     "metadata": {},
     "output_type": "display_data"
    }
   ],
   "execution_count": 198
  },
  {
   "metadata": {
    "ExecuteTime": {
     "end_time": "2024-09-05T19:01:48.841527Z",
     "start_time": "2024-09-05T19:01:48.840141Z"
    }
   },
   "cell_type": "code",
   "source": "",
   "id": "5db1dfea8da000",
   "outputs": [],
   "execution_count": null
  },
  {
   "metadata": {
    "ExecuteTime": {
     "end_time": "2024-09-05T19:01:48.872017Z",
     "start_time": "2024-09-05T19:01:48.870501Z"
    }
   },
   "cell_type": "code",
   "source": [
    "# # Using seasonal decomposition\n",
    "# \n",
    "# from statsmodels.tsa.seasonal import seasonal_decompose\n",
    "# \n",
    "# # Decompose the time series\n",
    "# decomposition = seasonal_decompose(issues_timeseries_df['WEEK'], model='additive')\n",
    "# decomposition.plot()\n",
    "# plt.show()"
   ],
   "id": "e27893f95dca1b26",
   "outputs": [],
   "execution_count": 199
  },
  {
   "metadata": {
    "ExecuteTime": {
     "end_time": "2024-09-05T19:01:48.900323Z",
     "start_time": "2024-09-05T19:01:48.898856Z"
    }
   },
   "cell_type": "code",
   "source": "",
   "id": "4f5cf00f353532df",
   "outputs": [],
   "execution_count": null
  },
  {
   "metadata": {
    "ExecuteTime": {
     "end_time": "2024-09-05T19:01:48.935027Z",
     "start_time": "2024-09-05T19:01:48.926611Z"
    }
   },
   "cell_type": "code",
   "source": [
    "#What about using a random forest?\n",
    "#Well, there are some extra steps\n",
    "\n",
    "#regenerate a clean df\n",
    "# Now let's do a time-series analysis\n",
    "# We need to group issue_count by week\n",
    "\n",
    "issues_timeseries_rf_df = issues_df.groupby(['WEEK'])['ISSUE_COUNT'].sum().reset_index()\n",
    "issues_timeseries_rf_df.head()"
   ],
   "id": "9cfb752a803dc067",
   "outputs": [
    {
     "data": {
      "text/plain": [
       "         WEEK  ISSUE_COUNT\n",
       "0  2021-09-19          134\n",
       "1  2021-09-26         1244\n",
       "2  2021-10-03         1891\n",
       "3  2021-10-10         2622\n",
       "4  2021-10-17         2901"
      ],
      "text/html": [
       "<div>\n",
       "<style scoped>\n",
       "    .dataframe tbody tr th:only-of-type {\n",
       "        vertical-align: middle;\n",
       "    }\n",
       "\n",
       "    .dataframe tbody tr th {\n",
       "        vertical-align: top;\n",
       "    }\n",
       "\n",
       "    .dataframe thead th {\n",
       "        text-align: right;\n",
       "    }\n",
       "</style>\n",
       "<table border=\"1\" class=\"dataframe\">\n",
       "  <thead>\n",
       "    <tr style=\"text-align: right;\">\n",
       "      <th></th>\n",
       "      <th>WEEK</th>\n",
       "      <th>ISSUE_COUNT</th>\n",
       "    </tr>\n",
       "  </thead>\n",
       "  <tbody>\n",
       "    <tr>\n",
       "      <th>0</th>\n",
       "      <td>2021-09-19</td>\n",
       "      <td>134</td>\n",
       "    </tr>\n",
       "    <tr>\n",
       "      <th>1</th>\n",
       "      <td>2021-09-26</td>\n",
       "      <td>1244</td>\n",
       "    </tr>\n",
       "    <tr>\n",
       "      <th>2</th>\n",
       "      <td>2021-10-03</td>\n",
       "      <td>1891</td>\n",
       "    </tr>\n",
       "    <tr>\n",
       "      <th>3</th>\n",
       "      <td>2021-10-10</td>\n",
       "      <td>2622</td>\n",
       "    </tr>\n",
       "    <tr>\n",
       "      <th>4</th>\n",
       "      <td>2021-10-17</td>\n",
       "      <td>2901</td>\n",
       "    </tr>\n",
       "  </tbody>\n",
       "</table>\n",
       "</div>"
      ]
     },
     "execution_count": 200,
     "metadata": {},
     "output_type": "execute_result"
    }
   ],
   "execution_count": 200
  },
  {
   "metadata": {
    "ExecuteTime": {
     "end_time": "2024-09-05T19:01:48.978315Z",
     "start_time": "2024-09-05T19:01:48.976372Z"
    }
   },
   "cell_type": "code",
   "source": [
    "# Create labels for anomalies (you could use a more sophisticated method)\n",
    "issues_timeseries_rf_df['label'] = 0\n",
    "issues_timeseries_rf_df.loc[issues_timeseries_rf_df.index[20:25], 'label'] = 1  # Marking anomalies as 1\n"
   ],
   "id": "d6ddd2884ee60304",
   "outputs": [],
   "execution_count": 201
  },
  {
   "metadata": {
    "ExecuteTime": {
     "end_time": "2024-09-05T19:01:48.988760Z",
     "start_time": "2024-09-05T19:01:48.985665Z"
    }
   },
   "cell_type": "code",
   "source": [
    "#standardize the data\n",
    "\n",
    "scaler = StandardScaler()\n",
    "issues_timeseries_rf_df['ISSUE_COUNT_SCALED'] = scaler.fit_transform(issues_timeseries_rf_df[['ISSUE_COUNT']])"
   ],
   "id": "19a54652c24d83be",
   "outputs": [],
   "execution_count": 202
  },
  {
   "metadata": {
    "ExecuteTime": {
     "end_time": "2024-09-05T19:01:49.013427Z",
     "start_time": "2024-09-05T19:01:49.010561Z"
    }
   },
   "cell_type": "code",
   "source": [
    "# Features and labels\n",
    "X = issues_timeseries_rf_df[['ISSUE_COUNT_SCALED']]\n",
    "y = issues_timeseries_rf_df['label']\n",
    "\n",
    "# Split the data\n",
    "X_train, X_test, y_train, y_test = train_test_split(X, y, test_size=0.2, random_state=0)"
   ],
   "id": "b56f8e0e09ca2041",
   "outputs": [],
   "execution_count": 203
  },
  {
   "metadata": {
    "ExecuteTime": {
     "end_time": "2024-09-05T19:01:49.113416Z",
     "start_time": "2024-09-05T19:01:49.064315Z"
    }
   },
   "cell_type": "code",
   "source": [
    "# train the classifier\n",
    "clf = RandomForestClassifier(n_estimators=100, random_state=0)\n",
    "clf.fit(X_train, y_train)\n"
   ],
   "id": "113bac0e2d274254",
   "outputs": [
    {
     "data": {
      "text/plain": [
       "RandomForestClassifier(random_state=0)"
      ],
      "text/html": [
       "<style>#sk-container-id-2 {\n",
       "  /* Definition of color scheme common for light and dark mode */\n",
       "  --sklearn-color-text: black;\n",
       "  --sklearn-color-line: gray;\n",
       "  /* Definition of color scheme for unfitted estimators */\n",
       "  --sklearn-color-unfitted-level-0: #fff5e6;\n",
       "  --sklearn-color-unfitted-level-1: #f6e4d2;\n",
       "  --sklearn-color-unfitted-level-2: #ffe0b3;\n",
       "  --sklearn-color-unfitted-level-3: chocolate;\n",
       "  /* Definition of color scheme for fitted estimators */\n",
       "  --sklearn-color-fitted-level-0: #f0f8ff;\n",
       "  --sklearn-color-fitted-level-1: #d4ebff;\n",
       "  --sklearn-color-fitted-level-2: #b3dbfd;\n",
       "  --sklearn-color-fitted-level-3: cornflowerblue;\n",
       "\n",
       "  /* Specific color for light theme */\n",
       "  --sklearn-color-text-on-default-background: var(--sg-text-color, var(--theme-code-foreground, var(--jp-content-font-color1, black)));\n",
       "  --sklearn-color-background: var(--sg-background-color, var(--theme-background, var(--jp-layout-color0, white)));\n",
       "  --sklearn-color-border-box: var(--sg-text-color, var(--theme-code-foreground, var(--jp-content-font-color1, black)));\n",
       "  --sklearn-color-icon: #696969;\n",
       "\n",
       "  @media (prefers-color-scheme: dark) {\n",
       "    /* Redefinition of color scheme for dark theme */\n",
       "    --sklearn-color-text-on-default-background: var(--sg-text-color, var(--theme-code-foreground, var(--jp-content-font-color1, white)));\n",
       "    --sklearn-color-background: var(--sg-background-color, var(--theme-background, var(--jp-layout-color0, #111)));\n",
       "    --sklearn-color-border-box: var(--sg-text-color, var(--theme-code-foreground, var(--jp-content-font-color1, white)));\n",
       "    --sklearn-color-icon: #878787;\n",
       "  }\n",
       "}\n",
       "\n",
       "#sk-container-id-2 {\n",
       "  color: var(--sklearn-color-text);\n",
       "}\n",
       "\n",
       "#sk-container-id-2 pre {\n",
       "  padding: 0;\n",
       "}\n",
       "\n",
       "#sk-container-id-2 input.sk-hidden--visually {\n",
       "  border: 0;\n",
       "  clip: rect(1px 1px 1px 1px);\n",
       "  clip: rect(1px, 1px, 1px, 1px);\n",
       "  height: 1px;\n",
       "  margin: -1px;\n",
       "  overflow: hidden;\n",
       "  padding: 0;\n",
       "  position: absolute;\n",
       "  width: 1px;\n",
       "}\n",
       "\n",
       "#sk-container-id-2 div.sk-dashed-wrapped {\n",
       "  border: 1px dashed var(--sklearn-color-line);\n",
       "  margin: 0 0.4em 0.5em 0.4em;\n",
       "  box-sizing: border-box;\n",
       "  padding-bottom: 0.4em;\n",
       "  background-color: var(--sklearn-color-background);\n",
       "}\n",
       "\n",
       "#sk-container-id-2 div.sk-container {\n",
       "  /* jupyter's `normalize.less` sets `[hidden] { display: none; }`\n",
       "     but bootstrap.min.css set `[hidden] { display: none !important; }`\n",
       "     so we also need the `!important` here to be able to override the\n",
       "     default hidden behavior on the sphinx rendered scikit-learn.org.\n",
       "     See: https://github.com/scikit-learn/scikit-learn/issues/21755 */\n",
       "  display: inline-block !important;\n",
       "  position: relative;\n",
       "}\n",
       "\n",
       "#sk-container-id-2 div.sk-text-repr-fallback {\n",
       "  display: none;\n",
       "}\n",
       "\n",
       "div.sk-parallel-item,\n",
       "div.sk-serial,\n",
       "div.sk-item {\n",
       "  /* draw centered vertical line to link estimators */\n",
       "  background-image: linear-gradient(var(--sklearn-color-text-on-default-background), var(--sklearn-color-text-on-default-background));\n",
       "  background-size: 2px 100%;\n",
       "  background-repeat: no-repeat;\n",
       "  background-position: center center;\n",
       "}\n",
       "\n",
       "/* Parallel-specific style estimator block */\n",
       "\n",
       "#sk-container-id-2 div.sk-parallel-item::after {\n",
       "  content: \"\";\n",
       "  width: 100%;\n",
       "  border-bottom: 2px solid var(--sklearn-color-text-on-default-background);\n",
       "  flex-grow: 1;\n",
       "}\n",
       "\n",
       "#sk-container-id-2 div.sk-parallel {\n",
       "  display: flex;\n",
       "  align-items: stretch;\n",
       "  justify-content: center;\n",
       "  background-color: var(--sklearn-color-background);\n",
       "  position: relative;\n",
       "}\n",
       "\n",
       "#sk-container-id-2 div.sk-parallel-item {\n",
       "  display: flex;\n",
       "  flex-direction: column;\n",
       "}\n",
       "\n",
       "#sk-container-id-2 div.sk-parallel-item:first-child::after {\n",
       "  align-self: flex-end;\n",
       "  width: 50%;\n",
       "}\n",
       "\n",
       "#sk-container-id-2 div.sk-parallel-item:last-child::after {\n",
       "  align-self: flex-start;\n",
       "  width: 50%;\n",
       "}\n",
       "\n",
       "#sk-container-id-2 div.sk-parallel-item:only-child::after {\n",
       "  width: 0;\n",
       "}\n",
       "\n",
       "/* Serial-specific style estimator block */\n",
       "\n",
       "#sk-container-id-2 div.sk-serial {\n",
       "  display: flex;\n",
       "  flex-direction: column;\n",
       "  align-items: center;\n",
       "  background-color: var(--sklearn-color-background);\n",
       "  padding-right: 1em;\n",
       "  padding-left: 1em;\n",
       "}\n",
       "\n",
       "\n",
       "/* Toggleable style: style used for estimator/Pipeline/ColumnTransformer box that is\n",
       "clickable and can be expanded/collapsed.\n",
       "- Pipeline and ColumnTransformer use this feature and define the default style\n",
       "- Estimators will overwrite some part of the style using the `sk-estimator` class\n",
       "*/\n",
       "\n",
       "/* Pipeline and ColumnTransformer style (default) */\n",
       "\n",
       "#sk-container-id-2 div.sk-toggleable {\n",
       "  /* Default theme specific background. It is overwritten whether we have a\n",
       "  specific estimator or a Pipeline/ColumnTransformer */\n",
       "  background-color: var(--sklearn-color-background);\n",
       "}\n",
       "\n",
       "/* Toggleable label */\n",
       "#sk-container-id-2 label.sk-toggleable__label {\n",
       "  cursor: pointer;\n",
       "  display: block;\n",
       "  width: 100%;\n",
       "  margin-bottom: 0;\n",
       "  padding: 0.5em;\n",
       "  box-sizing: border-box;\n",
       "  text-align: center;\n",
       "}\n",
       "\n",
       "#sk-container-id-2 label.sk-toggleable__label-arrow:before {\n",
       "  /* Arrow on the left of the label */\n",
       "  content: \"▸\";\n",
       "  float: left;\n",
       "  margin-right: 0.25em;\n",
       "  color: var(--sklearn-color-icon);\n",
       "}\n",
       "\n",
       "#sk-container-id-2 label.sk-toggleable__label-arrow:hover:before {\n",
       "  color: var(--sklearn-color-text);\n",
       "}\n",
       "\n",
       "/* Toggleable content - dropdown */\n",
       "\n",
       "#sk-container-id-2 div.sk-toggleable__content {\n",
       "  max-height: 0;\n",
       "  max-width: 0;\n",
       "  overflow: hidden;\n",
       "  text-align: left;\n",
       "  /* unfitted */\n",
       "  background-color: var(--sklearn-color-unfitted-level-0);\n",
       "}\n",
       "\n",
       "#sk-container-id-2 div.sk-toggleable__content.fitted {\n",
       "  /* fitted */\n",
       "  background-color: var(--sklearn-color-fitted-level-0);\n",
       "}\n",
       "\n",
       "#sk-container-id-2 div.sk-toggleable__content pre {\n",
       "  margin: 0.2em;\n",
       "  border-radius: 0.25em;\n",
       "  color: var(--sklearn-color-text);\n",
       "  /* unfitted */\n",
       "  background-color: var(--sklearn-color-unfitted-level-0);\n",
       "}\n",
       "\n",
       "#sk-container-id-2 div.sk-toggleable__content.fitted pre {\n",
       "  /* unfitted */\n",
       "  background-color: var(--sklearn-color-fitted-level-0);\n",
       "}\n",
       "\n",
       "#sk-container-id-2 input.sk-toggleable__control:checked~div.sk-toggleable__content {\n",
       "  /* Expand drop-down */\n",
       "  max-height: 200px;\n",
       "  max-width: 100%;\n",
       "  overflow: auto;\n",
       "}\n",
       "\n",
       "#sk-container-id-2 input.sk-toggleable__control:checked~label.sk-toggleable__label-arrow:before {\n",
       "  content: \"▾\";\n",
       "}\n",
       "\n",
       "/* Pipeline/ColumnTransformer-specific style */\n",
       "\n",
       "#sk-container-id-2 div.sk-label input.sk-toggleable__control:checked~label.sk-toggleable__label {\n",
       "  color: var(--sklearn-color-text);\n",
       "  background-color: var(--sklearn-color-unfitted-level-2);\n",
       "}\n",
       "\n",
       "#sk-container-id-2 div.sk-label.fitted input.sk-toggleable__control:checked~label.sk-toggleable__label {\n",
       "  background-color: var(--sklearn-color-fitted-level-2);\n",
       "}\n",
       "\n",
       "/* Estimator-specific style */\n",
       "\n",
       "/* Colorize estimator box */\n",
       "#sk-container-id-2 div.sk-estimator input.sk-toggleable__control:checked~label.sk-toggleable__label {\n",
       "  /* unfitted */\n",
       "  background-color: var(--sklearn-color-unfitted-level-2);\n",
       "}\n",
       "\n",
       "#sk-container-id-2 div.sk-estimator.fitted input.sk-toggleable__control:checked~label.sk-toggleable__label {\n",
       "  /* fitted */\n",
       "  background-color: var(--sklearn-color-fitted-level-2);\n",
       "}\n",
       "\n",
       "#sk-container-id-2 div.sk-label label.sk-toggleable__label,\n",
       "#sk-container-id-2 div.sk-label label {\n",
       "  /* The background is the default theme color */\n",
       "  color: var(--sklearn-color-text-on-default-background);\n",
       "}\n",
       "\n",
       "/* On hover, darken the color of the background */\n",
       "#sk-container-id-2 div.sk-label:hover label.sk-toggleable__label {\n",
       "  color: var(--sklearn-color-text);\n",
       "  background-color: var(--sklearn-color-unfitted-level-2);\n",
       "}\n",
       "\n",
       "/* Label box, darken color on hover, fitted */\n",
       "#sk-container-id-2 div.sk-label.fitted:hover label.sk-toggleable__label.fitted {\n",
       "  color: var(--sklearn-color-text);\n",
       "  background-color: var(--sklearn-color-fitted-level-2);\n",
       "}\n",
       "\n",
       "/* Estimator label */\n",
       "\n",
       "#sk-container-id-2 div.sk-label label {\n",
       "  font-family: monospace;\n",
       "  font-weight: bold;\n",
       "  display: inline-block;\n",
       "  line-height: 1.2em;\n",
       "}\n",
       "\n",
       "#sk-container-id-2 div.sk-label-container {\n",
       "  text-align: center;\n",
       "}\n",
       "\n",
       "/* Estimator-specific */\n",
       "#sk-container-id-2 div.sk-estimator {\n",
       "  font-family: monospace;\n",
       "  border: 1px dotted var(--sklearn-color-border-box);\n",
       "  border-radius: 0.25em;\n",
       "  box-sizing: border-box;\n",
       "  margin-bottom: 0.5em;\n",
       "  /* unfitted */\n",
       "  background-color: var(--sklearn-color-unfitted-level-0);\n",
       "}\n",
       "\n",
       "#sk-container-id-2 div.sk-estimator.fitted {\n",
       "  /* fitted */\n",
       "  background-color: var(--sklearn-color-fitted-level-0);\n",
       "}\n",
       "\n",
       "/* on hover */\n",
       "#sk-container-id-2 div.sk-estimator:hover {\n",
       "  /* unfitted */\n",
       "  background-color: var(--sklearn-color-unfitted-level-2);\n",
       "}\n",
       "\n",
       "#sk-container-id-2 div.sk-estimator.fitted:hover {\n",
       "  /* fitted */\n",
       "  background-color: var(--sklearn-color-fitted-level-2);\n",
       "}\n",
       "\n",
       "/* Specification for estimator info (e.g. \"i\" and \"?\") */\n",
       "\n",
       "/* Common style for \"i\" and \"?\" */\n",
       "\n",
       ".sk-estimator-doc-link,\n",
       "a:link.sk-estimator-doc-link,\n",
       "a:visited.sk-estimator-doc-link {\n",
       "  float: right;\n",
       "  font-size: smaller;\n",
       "  line-height: 1em;\n",
       "  font-family: monospace;\n",
       "  background-color: var(--sklearn-color-background);\n",
       "  border-radius: 1em;\n",
       "  height: 1em;\n",
       "  width: 1em;\n",
       "  text-decoration: none !important;\n",
       "  margin-left: 1ex;\n",
       "  /* unfitted */\n",
       "  border: var(--sklearn-color-unfitted-level-1) 1pt solid;\n",
       "  color: var(--sklearn-color-unfitted-level-1);\n",
       "}\n",
       "\n",
       ".sk-estimator-doc-link.fitted,\n",
       "a:link.sk-estimator-doc-link.fitted,\n",
       "a:visited.sk-estimator-doc-link.fitted {\n",
       "  /* fitted */\n",
       "  border: var(--sklearn-color-fitted-level-1) 1pt solid;\n",
       "  color: var(--sklearn-color-fitted-level-1);\n",
       "}\n",
       "\n",
       "/* On hover */\n",
       "div.sk-estimator:hover .sk-estimator-doc-link:hover,\n",
       ".sk-estimator-doc-link:hover,\n",
       "div.sk-label-container:hover .sk-estimator-doc-link:hover,\n",
       ".sk-estimator-doc-link:hover {\n",
       "  /* unfitted */\n",
       "  background-color: var(--sklearn-color-unfitted-level-3);\n",
       "  color: var(--sklearn-color-background);\n",
       "  text-decoration: none;\n",
       "}\n",
       "\n",
       "div.sk-estimator.fitted:hover .sk-estimator-doc-link.fitted:hover,\n",
       ".sk-estimator-doc-link.fitted:hover,\n",
       "div.sk-label-container:hover .sk-estimator-doc-link.fitted:hover,\n",
       ".sk-estimator-doc-link.fitted:hover {\n",
       "  /* fitted */\n",
       "  background-color: var(--sklearn-color-fitted-level-3);\n",
       "  color: var(--sklearn-color-background);\n",
       "  text-decoration: none;\n",
       "}\n",
       "\n",
       "/* Span, style for the box shown on hovering the info icon */\n",
       ".sk-estimator-doc-link span {\n",
       "  display: none;\n",
       "  z-index: 9999;\n",
       "  position: relative;\n",
       "  font-weight: normal;\n",
       "  right: .2ex;\n",
       "  padding: .5ex;\n",
       "  margin: .5ex;\n",
       "  width: min-content;\n",
       "  min-width: 20ex;\n",
       "  max-width: 50ex;\n",
       "  color: var(--sklearn-color-text);\n",
       "  box-shadow: 2pt 2pt 4pt #999;\n",
       "  /* unfitted */\n",
       "  background: var(--sklearn-color-unfitted-level-0);\n",
       "  border: .5pt solid var(--sklearn-color-unfitted-level-3);\n",
       "}\n",
       "\n",
       ".sk-estimator-doc-link.fitted span {\n",
       "  /* fitted */\n",
       "  background: var(--sklearn-color-fitted-level-0);\n",
       "  border: var(--sklearn-color-fitted-level-3);\n",
       "}\n",
       "\n",
       ".sk-estimator-doc-link:hover span {\n",
       "  display: block;\n",
       "}\n",
       "\n",
       "/* \"?\"-specific style due to the `<a>` HTML tag */\n",
       "\n",
       "#sk-container-id-2 a.estimator_doc_link {\n",
       "  float: right;\n",
       "  font-size: 1rem;\n",
       "  line-height: 1em;\n",
       "  font-family: monospace;\n",
       "  background-color: var(--sklearn-color-background);\n",
       "  border-radius: 1rem;\n",
       "  height: 1rem;\n",
       "  width: 1rem;\n",
       "  text-decoration: none;\n",
       "  /* unfitted */\n",
       "  color: var(--sklearn-color-unfitted-level-1);\n",
       "  border: var(--sklearn-color-unfitted-level-1) 1pt solid;\n",
       "}\n",
       "\n",
       "#sk-container-id-2 a.estimator_doc_link.fitted {\n",
       "  /* fitted */\n",
       "  border: var(--sklearn-color-fitted-level-1) 1pt solid;\n",
       "  color: var(--sklearn-color-fitted-level-1);\n",
       "}\n",
       "\n",
       "/* On hover */\n",
       "#sk-container-id-2 a.estimator_doc_link:hover {\n",
       "  /* unfitted */\n",
       "  background-color: var(--sklearn-color-unfitted-level-3);\n",
       "  color: var(--sklearn-color-background);\n",
       "  text-decoration: none;\n",
       "}\n",
       "\n",
       "#sk-container-id-2 a.estimator_doc_link.fitted:hover {\n",
       "  /* fitted */\n",
       "  background-color: var(--sklearn-color-fitted-level-3);\n",
       "}\n",
       "</style><div id=\"sk-container-id-2\" class=\"sk-top-container\"><div class=\"sk-text-repr-fallback\"><pre>RandomForestClassifier(random_state=0)</pre><b>In a Jupyter environment, please rerun this cell to show the HTML representation or trust the notebook. <br />On GitHub, the HTML representation is unable to render, please try loading this page with nbviewer.org.</b></div><div class=\"sk-container\" hidden><div class=\"sk-item\"><div class=\"sk-estimator fitted sk-toggleable\"><input class=\"sk-toggleable__control sk-hidden--visually\" id=\"sk-estimator-id-2\" type=\"checkbox\" checked><label for=\"sk-estimator-id-2\" class=\"sk-toggleable__label fitted sk-toggleable__label-arrow fitted\">&nbsp;&nbsp;RandomForestClassifier<a class=\"sk-estimator-doc-link fitted\" rel=\"noreferrer\" target=\"_blank\" href=\"https://scikit-learn.org/1.5/modules/generated/sklearn.ensemble.RandomForestClassifier.html\">?<span>Documentation for RandomForestClassifier</span></a><span class=\"sk-estimator-doc-link fitted\">i<span>Fitted</span></span></label><div class=\"sk-toggleable__content fitted\"><pre>RandomForestClassifier(random_state=0)</pre></div> </div></div></div></div>"
      ]
     },
     "execution_count": 204,
     "metadata": {},
     "output_type": "execute_result"
    }
   ],
   "execution_count": 204
  },
  {
   "metadata": {
    "ExecuteTime": {
     "end_time": "2024-09-05T19:01:49.173655Z",
     "start_time": "2024-09-05T19:01:49.166467Z"
    }
   },
   "cell_type": "code",
   "source": [
    "# Predict anomalies\n",
    "issues_timeseries_rf_df['predicted'] = clf.predict(X)\n",
    "\n",
    "# Evaluate the model\n",
    "print(classification_report(y, issues_timeseries_rf_df['predicted']))\n",
    "\n"
   ],
   "id": "b8d0bcbb0345a3ce",
   "outputs": [
    {
     "name": "stdout",
     "output_type": "stream",
     "text": [
      "              precision    recall  f1-score   support\n",
      "\n",
      "           0       0.99      0.99      0.99       115\n",
      "           1       0.80      0.80      0.80         5\n",
      "\n",
      "    accuracy                           0.98       120\n",
      "   macro avg       0.90      0.90      0.90       120\n",
      "weighted avg       0.98      0.98      0.98       120\n",
      "\n"
     ]
    }
   ],
   "execution_count": 205
  },
  {
   "metadata": {
    "ExecuteTime": {
     "end_time": "2024-09-05T19:01:49.288027Z",
     "start_time": "2024-09-05T19:01:49.191181Z"
    }
   },
   "cell_type": "code",
   "source": [
    "# Visualize the results\n",
    "plt.figure(figsize=(12, 6))\n",
    "plt.plot(issues_timeseries_rf_df.index, issues_timeseries_rf_df['ISSUE_COUNT'], label='ISSUE_COUNT')\n",
    "plt.scatter(issues_timeseries_rf_df.index[issues_timeseries_rf_df['predicted'] == 1], issues_timeseries_rf_df['ISSUE_COUNT'][issues_timeseries_rf_df['predicted'] == 1], color='red', label='Predicted Anomaly')\n",
    "plt.title('Time Series with Detected Anomalies')\n",
    "plt.xlabel('Date')\n",
    "plt.ylabel('ISSUE_COUNT')\n",
    "plt.legend()\n",
    "plt.show()"
   ],
   "id": "4e00eb0e275f581f",
   "outputs": [
    {
     "data": {
      "text/plain": [
       "<Figure size 1200x600 with 1 Axes>"
      ],
      "image/png": "[encoded data removed]"
     },
     "metadata": {},
     "output_type": "display_data"
    }
   ],
   "execution_count": 206
  },
  {
   "metadata": {
    "ExecuteTime": {
     "end_time": "2024-09-05T19:01:49.315942Z",
     "start_time": "2024-09-05T19:01:49.314562Z"
    }
   },
   "cell_type": "code",
   "source": "",
   "id": "b95b6dca939f3862",
   "outputs": [],
   "execution_count": null
  },
  {
   "metadata": {},
   "cell_type": "markdown",
   "source": "## Outlier Detection",
   "id": "8a30275aaa00cc84"
  },
  {
   "metadata": {
    "ExecuteTime": {
     "end_time": "2024-09-05T19:01:49.361183Z",
     "start_time": "2024-09-05T19:01:49.342017Z"
    }
   },
   "cell_type": "code",
   "source": [
    "# Step 1 - remove the time component and bring everything in\n",
    "\n",
    "issues_notime_df = issues_df.groupby(['VEHICLE_MODEL','CUSTOMER_REGION','MANUFACTURING_CITY','CUSTOMER_ISSUE'])['ISSUE_COUNT'].sum().reset_index()"
   ],
   "id": "bf2194641e3c641f",
   "outputs": [],
   "execution_count": 207
  },
  {
   "metadata": {
    "ExecuteTime": {
     "end_time": "2024-09-05T19:01:49.390962Z",
     "start_time": "2024-09-05T19:01:49.386951Z"
    }
   },
   "cell_type": "code",
   "source": "issues_notime_df.head()",
   "id": "9c23f43d505ce26b",
   "outputs": [
    {
     "data": {
      "text/plain": [
       "  VEHICLE_MODEL CUSTOMER_REGION MANUFACTURING_CITY  \\\n",
       "0           HL5        Americas            Detroit   \n",
       "1           HL5        Americas            Detroit   \n",
       "2           HL5        Americas            Detroit   \n",
       "3           HL5        Americas            Detroit   \n",
       "4           HL5        Americas            Detroit   \n",
       "\n",
       "                   CUSTOMER_ISSUE  ISSUE_COUNT  \n",
       "0  Air Conditioning/Heating Issue          235  \n",
       "1              Alternator Failure          208  \n",
       "2       Axle and Drivetrain Issue          370  \n",
       "3                 Battery Failure          209  \n",
       "4                   Braking Issue          255  "
      ],
      "text/html": [
       "<div>\n",
       "<style scoped>\n",
       "    .dataframe tbody tr th:only-of-type {\n",
       "        vertical-align: middle;\n",
       "    }\n",
       "\n",
       "    .dataframe tbody tr th {\n",
       "        vertical-align: top;\n",
       "    }\n",
       "\n",
       "    .dataframe thead th {\n",
       "        text-align: right;\n",
       "    }\n",
       "</style>\n",
       "<table border=\"1\" class=\"dataframe\">\n",
       "  <thead>\n",
       "    <tr style=\"text-align: right;\">\n",
       "      <th></th>\n",
       "      <th>VEHICLE_MODEL</th>\n",
       "      <th>CUSTOMER_REGION</th>\n",
       "      <th>MANUFACTURING_CITY</th>\n",
       "      <th>CUSTOMER_ISSUE</th>\n",
       "      <th>ISSUE_COUNT</th>\n",
       "    </tr>\n",
       "  </thead>\n",
       "  <tbody>\n",
       "    <tr>\n",
       "      <th>0</th>\n",
       "      <td>HL5</td>\n",
       "      <td>Americas</td>\n",
       "      <td>Detroit</td>\n",
       "      <td>Air Conditioning/Heating Issue</td>\n",
       "      <td>235</td>\n",
       "    </tr>\n",
       "    <tr>\n",
       "      <th>1</th>\n",
       "      <td>HL5</td>\n",
       "      <td>Americas</td>\n",
       "      <td>Detroit</td>\n",
       "      <td>Alternator Failure</td>\n",
       "      <td>208</td>\n",
       "    </tr>\n",
       "    <tr>\n",
       "      <th>2</th>\n",
       "      <td>HL5</td>\n",
       "      <td>Americas</td>\n",
       "      <td>Detroit</td>\n",
       "      <td>Axle and Drivetrain Issue</td>\n",
       "      <td>370</td>\n",
       "    </tr>\n",
       "    <tr>\n",
       "      <th>3</th>\n",
       "      <td>HL5</td>\n",
       "      <td>Americas</td>\n",
       "      <td>Detroit</td>\n",
       "      <td>Battery Failure</td>\n",
       "      <td>209</td>\n",
       "    </tr>\n",
       "    <tr>\n",
       "      <th>4</th>\n",
       "      <td>HL5</td>\n",
       "      <td>Americas</td>\n",
       "      <td>Detroit</td>\n",
       "      <td>Braking Issue</td>\n",
       "      <td>255</td>\n",
       "    </tr>\n",
       "  </tbody>\n",
       "</table>\n",
       "</div>"
      ]
     },
     "execution_count": 208,
     "metadata": {},
     "output_type": "execute_result"
    }
   ],
   "execution_count": 208
  },
  {
   "metadata": {
    "ExecuteTime": {
     "end_time": "2024-09-05T19:01:49.433064Z",
     "start_time": "2024-09-05T19:01:49.429989Z"
    }
   },
   "cell_type": "code",
   "source": [
    "# Calculate overall defect counts by characteristics\n",
    "total_issues_by_city = issues_notime_df.groupby('MANUFACTURING_CITY')['ISSUE_COUNT'].sum()\n",
    "total_issues_by_model = issues_notime_df.groupby('VEHICLE_MODEL')['ISSUE_COUNT'].sum()\n",
    "total_issues_by_region = issues_notime_df.groupby('CUSTOMER_REGION')['ISSUE_COUNT'].sum()\n"
   ],
   "id": "91b15d5191e7e8e3",
   "outputs": [],
   "execution_count": 209
  },
  {
   "metadata": {
    "ExecuteTime": {
     "end_time": "2024-09-05T19:01:49.463008Z",
     "start_time": "2024-09-05T19:01:49.458786Z"
    }
   },
   "cell_type": "code",
   "source": [
    "#Finding outliers\n",
    "\n",
    "# Z-score for detecting outliers\n",
    "issues_notime_df['Z-score'] = stats.zscore(issues_notime_df['ISSUE_COUNT'])\n",
    "outliers_z_score = issues_notime_df[issues_notime_df['Z-score'].abs() > 3]  # Z-score threshold\n",
    "\n",
    "# IQR for detecting outliers\n",
    "Q1 = issues_notime_df['ISSUE_COUNT'].quantile(0.25)\n",
    "Q3 = issues_notime_df['ISSUE_COUNT'].quantile(0.75)\n",
    "IQR = Q3 - Q1\n",
    "outliers_iqr = issues_notime_df[(issues_notime_df['ISSUE_COUNT'] < (Q1 - 1.5 * IQR)) | (issues_notime_df['ISSUE_COUNT'] > (Q3 + 1.5 * IQR))]\n"
   ],
   "id": "111fd70c182a5f9d",
   "outputs": [],
   "execution_count": 210
  },
  {
   "metadata": {
    "ExecuteTime": {
     "end_time": "2024-09-05T19:01:49.487209Z",
     "start_time": "2024-09-05T19:01:49.484004Z"
    }
   },
   "cell_type": "code",
   "source": [
    "#Need to normalize\n",
    "\n",
    "scaler = StandardScaler()\n",
    "issues_notime_df['ISSUE_COUNT_NORMALIZED'] = scaler.fit_transform(issues_notime_df[['ISSUE_COUNT']])\n"
   ],
   "id": "f7245659a1e13e4c",
   "outputs": [],
   "execution_count": 211
  },
  {
   "metadata": {
    "ExecuteTime": {
     "end_time": "2024-09-05T19:01:49.516888Z",
     "start_time": "2024-09-05T19:01:49.512483Z"
    }
   },
   "cell_type": "code",
   "source": "issues_notime_df.head()",
   "id": "cf19d82c115f3dae",
   "outputs": [
    {
     "data": {
      "text/plain": [
       "  VEHICLE_MODEL CUSTOMER_REGION MANUFACTURING_CITY  \\\n",
       "0           HL5        Americas            Detroit   \n",
       "1           HL5        Americas            Detroit   \n",
       "2           HL5        Americas            Detroit   \n",
       "3           HL5        Americas            Detroit   \n",
       "4           HL5        Americas            Detroit   \n",
       "\n",
       "                   CUSTOMER_ISSUE  ISSUE_COUNT   Z-score  \\\n",
       "0  Air Conditioning/Heating Issue          235 -0.309836   \n",
       "1              Alternator Failure          208 -0.317620   \n",
       "2       Axle and Drivetrain Issue          370 -0.270917   \n",
       "3                 Battery Failure          209 -0.317331   \n",
       "4                   Braking Issue          255 -0.304070   \n",
       "\n",
       "   ISSUE_COUNT_NORMALIZED  \n",
       "0               -0.309836  \n",
       "1               -0.317620  \n",
       "2               -0.270917  \n",
       "3               -0.317331  \n",
       "4               -0.304070  "
      ],
      "text/html": [
       "<div>\n",
       "<style scoped>\n",
       "    .dataframe tbody tr th:only-of-type {\n",
       "        vertical-align: middle;\n",
       "    }\n",
       "\n",
       "    .dataframe tbody tr th {\n",
       "        vertical-align: top;\n",
       "    }\n",
       "\n",
       "    .dataframe thead th {\n",
       "        text-align: right;\n",
       "    }\n",
       "</style>\n",
       "<table border=\"1\" class=\"dataframe\">\n",
       "  <thead>\n",
       "    <tr style=\"text-align: right;\">\n",
       "      <th></th>\n",
       "      <th>VEHICLE_MODEL</th>\n",
       "      <th>CUSTOMER_REGION</th>\n",
       "      <th>MANUFACTURING_CITY</th>\n",
       "      <th>CUSTOMER_ISSUE</th>\n",
       "      <th>ISSUE_COUNT</th>\n",
       "      <th>Z-score</th>\n",
       "      <th>ISSUE_COUNT_NORMALIZED</th>\n",
       "    </tr>\n",
       "  </thead>\n",
       "  <tbody>\n",
       "    <tr>\n",
       "      <th>0</th>\n",
       "      <td>HL5</td>\n",
       "      <td>Americas</td>\n",
       "      <td>Detroit</td>\n",
       "      <td>Air Conditioning/Heating Issue</td>\n",
       "      <td>235</td>\n",
       "      <td>-0.309836</td>\n",
       "      <td>-0.309836</td>\n",
       "    </tr>\n",
       "    <tr>\n",
       "      <th>1</th>\n",
       "      <td>HL5</td>\n",
       "      <td>Americas</td>\n",
       "      <td>Detroit</td>\n",
       "      <td>Alternator Failure</td>\n",
       "      <td>208</td>\n",
       "      <td>-0.317620</td>\n",
       "      <td>-0.317620</td>\n",
       "    </tr>\n",
       "    <tr>\n",
       "      <th>2</th>\n",
       "      <td>HL5</td>\n",
       "      <td>Americas</td>\n",
       "      <td>Detroit</td>\n",
       "      <td>Axle and Drivetrain Issue</td>\n",
       "      <td>370</td>\n",
       "      <td>-0.270917</td>\n",
       "      <td>-0.270917</td>\n",
       "    </tr>\n",
       "    <tr>\n",
       "      <th>3</th>\n",
       "      <td>HL5</td>\n",
       "      <td>Americas</td>\n",
       "      <td>Detroit</td>\n",
       "      <td>Battery Failure</td>\n",
       "      <td>209</td>\n",
       "      <td>-0.317331</td>\n",
       "      <td>-0.317331</td>\n",
       "    </tr>\n",
       "    <tr>\n",
       "      <th>4</th>\n",
       "      <td>HL5</td>\n",
       "      <td>Americas</td>\n",
       "      <td>Detroit</td>\n",
       "      <td>Braking Issue</td>\n",
       "      <td>255</td>\n",
       "      <td>-0.304070</td>\n",
       "      <td>-0.304070</td>\n",
       "    </tr>\n",
       "  </tbody>\n",
       "</table>\n",
       "</div>"
      ]
     },
     "execution_count": 212,
     "metadata": {},
     "output_type": "execute_result"
    }
   ],
   "execution_count": 212
  },
  {
   "metadata": {
    "ExecuteTime": {
     "end_time": "2024-09-05T19:01:49.558441Z",
     "start_time": "2024-09-05T19:01:49.556239Z"
    }
   },
   "cell_type": "code",
   "source": [
    "#Calcluate impact ratio\n",
    "# Impact ratio: defect count relative to total count\n",
    "total_issues = issues_notime_df['ISSUE_COUNT'].sum()\n",
    "issues_notime_df['IMPACT_RATIO'] = issues_notime_df['ISSUE_COUNT'] / total_issues\n"
   ],
   "id": "c26af623f1c62c73",
   "outputs": [],
   "execution_count": 213
  },
  {
   "metadata": {
    "ExecuteTime": {
     "end_time": "2024-09-05T19:01:49.586811Z",
     "start_time": "2024-09-05T19:01:49.582449Z"
    }
   },
   "cell_type": "code",
   "source": [
    "#Summary results\n",
    "\n",
    "# Combine absolute and relative measures\n",
    "impact_summary = pd.DataFrame({\n",
    "    'Total Issues by City': total_issues_by_city,\n",
    "    'Total Issues by Model': total_issues_by_model,\n",
    "    'Total Issues by Region': total_issues_by_region,\n",
    "    'Impact Ratio': issues_notime_df.groupby('MANUFACTURING_CITY')['IMPACT_RATIO'].mean()\n",
    "})\n",
    "\n",
    "# Rank characteristics by total defects and impact ratio\n",
    "top_cities = total_issues_by_city.sort_values(ascending=False).head(10)\n",
    "top_models = total_issues_by_model.sort_values(ascending=False).head(10)\n",
    "top_regions = total_issues_by_region.sort_values(ascending=False).head(10)\n",
    "\n",
    "print(\"Top Manufacturing Cities by Issues:\\n\", top_cities)\n",
    "print(\"Top Vehicle Models by Issues:\\n\", top_models)\n",
    "print(\"Top Customer Regions by Issues:\\n\", top_regions)\n"
   ],
   "id": "49fc6a1d2d610624",
   "outputs": [
    {
     "name": "stdout",
     "output_type": "stream",
     "text": [
      "Top Manufacturing Cities by Issues:\n",
      " MANUFACTURING_CITY\n",
      "Tokyo         772631\n",
      "Munich        362569\n",
      "Louisville    339053\n",
      "Detroit       104835\n",
      "Toronto        36472\n",
      "Toluca          5917\n",
      "Name: ISSUE_COUNT, dtype: int64\n",
      "Top Vehicle Models by Issues:\n",
      " VEHICLE_MODEL\n",
      "PX8    568077\n",
      "XN7    497691\n",
      "HL5    445249\n",
      "VC3    110460\n",
      "Name: ISSUE_COUNT, dtype: int64\n",
      "Top Customer Regions by Issues:\n",
      " CUSTOMER_REGION\n",
      "Europe      900618\n",
      "Americas    384015\n",
      "Asia        336844\n",
      "Name: ISSUE_COUNT, dtype: int64\n"
     ]
    }
   ],
   "execution_count": 214
  },
  {
   "metadata": {
    "ExecuteTime": {
     "end_time": "2024-09-05T19:01:49.844362Z",
     "start_time": "2024-09-05T19:01:49.626046Z"
    }
   },
   "cell_type": "code",
   "source": [
    "#Let's visualize it\n",
    "\n",
    "#Total issues by city\n",
    "plt.figure(figsize=(12, 6))\n",
    "top_cities.plot(kind='bar', title='Top Manufacturing Cities by Defects')\n",
    "plt.ylabel('Total Issues')\n",
    "plt.show()\n",
    "\n",
    "# Total issues by model\n",
    "plt.figure(figsize=(12, 6))\n",
    "top_models.plot(kind='bar', title='Top Vehicle Models by Defects')\n",
    "plt.ylabel('Total Issues')\n",
    "plt.show()\n",
    "\n",
    "# Total issues by region\n",
    "plt.figure(figsize=(12, 6))\n",
    "top_regions.plot(kind='bar', title='Top Customer Regions by Defects')\n",
    "plt.ylabel('Total Issues')\n",
    "plt.show()"
   ],
   "id": "cb3ee8f8841b3650",
   "outputs": [
    {
     "data": {
      "text/plain": [
       "<Figure size 1200x600 with 1 Axes>"
      ],
      "image/png": "[encoded data removed]"
     },
     "metadata": {},
     "output_type": "display_data"
    },
    {
     "data": {
      "text/plain": [
       "<Figure size 1200x600 with 1 Axes>"
      ],
      "image/png": "[encoded data removed]"
     },
     "metadata": {},
     "output_type": "display_data"
    },
    {
     "data": {
      "text/plain": [
       "<Figure size 1200x600 with 1 Axes>"
      ],
      "image/png": "[encoded data removed]"
     },
     "metadata": {},
     "output_type": "display_data"
    }
   ],
   "execution_count": 215
  },
  {
   "metadata": {
    "ExecuteTime": {
     "end_time": "2024-09-05T19:01:49.872983Z",
     "start_time": "2024-09-05T19:01:49.871849Z"
    }
   },
   "cell_type": "code",
   "source": "",
   "id": "d417be391d31b0ca",
   "outputs": [],
   "execution_count": null
  },
  {
   "metadata": {
    "ExecuteTime": {
     "end_time": "2024-09-05T19:01:49.900815Z",
     "start_time": "2024-09-05T19:01:49.899292Z"
    }
   },
   "cell_type": "code",
   "source": "",
   "id": "a681cf05c46d533f",
   "outputs": [],
   "execution_count": null
  },
  {
   "metadata": {
    "ExecuteTime": {
     "end_time": "2024-09-05T19:01:49.927666Z",
     "start_time": "2024-09-05T19:01:49.926235Z"
    }
   },
   "cell_type": "code",
   "source": "",
   "id": "174ca59cfdce4ebc",
   "outputs": [],
   "execution_count": null
  },
  {
   "metadata": {
    "ExecuteTime": {
     "end_time": "2024-09-05T19:01:49.954291Z",
     "start_time": "2024-09-05T19:01:49.952919Z"
    }
   },
   "cell_type": "code",
   "source": "",
   "id": "e8532c69cba4e38c",
   "outputs": [],
   "execution_count": null
  },
  {
   "metadata": {
    "ExecuteTime": {
     "end_time": "2024-09-05T19:01:49.999569Z",
     "start_time": "2024-09-05T19:01:49.980178Z"
    }
   },
   "cell_type": "code",
   "source": [
    "# Aggregate issue data to get total issues per combination of vehicle model, region, and manufacturing city\n",
    "issues_agg = issues_df.groupby(['VEHICLE_MODEL', 'CUSTOMER_REGION', 'MANUFACTURING_CITY']).agg(\n",
    "    TOTAL_ISSUES=('ISSUE_COUNT', 'sum')).reset_index()\n",
    "\n",
    "# Merge with sales data to calculate issue rates\n",
    "merged_df = pd.merge(issues_agg, sales_df, on=['VEHICLE_MODEL', 'CUSTOMER_REGION', 'MANUFACTURING_CITY'])\n",
    "\n",
    "# Calculate issue rates\n",
    "merged_df['ISSUE_RATE'] = merged_df['TOTAL_ISSUES'] / merged_df['VEHICLES_SOLD_COUNT']\n",
    "\n",
    "# Z-Score calculation for TOTAL_ISSUES and ISSUE_RATE\n",
    "merged_df['Z_SCORE_ISSUES'] = stats.zscore(merged_df['TOTAL_ISSUES'])\n",
    "merged_df['Z_SCORE_RATE'] = stats.zscore(merged_df['ISSUE_RATE'])\n",
    "\n",
    "# Define the threshold for outliers (Z-scores greater than 3 or less than -3)\n",
    "issue_outliers = merged_df[(merged_df['Z_SCORE_ISSUES'].abs() > 3)]\n",
    "rate_outliers = merged_df[(merged_df['Z_SCORE_RATE'].abs() > 3)]\n",
    "\n",
    "# IQR Method for ISSUE_RATE\n",
    "Q1 = merged_df['ISSUE_RATE'].quantile(0.25)\n",
    "Q3 = merged_df['ISSUE_RATE'].quantile(0.75)\n",
    "IQR = Q3 - Q1\n",
    "\n",
    "# Define lower and upper bounds for outliers using IQR\n",
    "lower_bound = Q1 - 1.5 * IQR\n",
    "upper_bound = Q3 + 1.5 * IQR\n",
    "\n",
    "iqr_outliers = merged_df[(merged_df['ISSUE_RATE'] < lower_bound) | (merged_df['ISSUE_RATE'] > upper_bound)]\n",
    "\n",
    "# Display the outliers identified by Z-score and IQR methods\n",
    "print(issue_outliers) \n",
    "print(rate_outliers)\n",
    "print(iqr_outliers)\n"
   ],
   "id": "c2667aaba89a74a6",
   "outputs": [
    {
     "name": "stdout",
     "output_type": "stream",
     "text": [
      "  VEHICLE_MODEL CUSTOMER_REGION MANUFACTURING_CITY  TOTAL_ISSUES  \\\n",
      "8           HL5          Europe              Tokyo        218840   \n",
      "\n",
      "   VEHICLES_SOLD_COUNT  ISSUE_RATE  Z_SCORE_ISSUES  Z_SCORE_RATE  \n",
      "8              2104376    0.103993        4.056901      0.130134  \n",
      "Empty DataFrame\n",
      "Columns: [VEHICLE_MODEL, CUSTOMER_REGION, MANUFACTURING_CITY, TOTAL_ISSUES, VEHICLES_SOLD_COUNT, ISSUE_RATE, Z_SCORE_ISSUES, Z_SCORE_RATE]\n",
      "Index: []\n",
      "  VEHICLE_MODEL CUSTOMER_REGION MANUFACTURING_CITY  TOTAL_ISSUES  \\\n",
      "3           HL5            Asia            Detroit          5065   \n",
      "6           HL5          Europe            Detroit          5834   \n",
      "\n",
      "   VEHICLES_SOLD_COUNT  ISSUE_RATE  Z_SCORE_ISSUES  Z_SCORE_RATE  \n",
      "3                17217    0.294186       -0.754971      2.662736  \n",
      "6                20340    0.286824       -0.737661      2.564705  \n"
     ]
    }
   ],
   "execution_count": 216
  },
  {
   "metadata": {
    "ExecuteTime": {
     "end_time": "2024-09-05T19:01:50.026384Z",
     "start_time": "2024-09-05T19:01:50.025082Z"
    }
   },
   "cell_type": "code",
   "source": "",
   "id": "dad50c99bdf79583",
   "outputs": [],
   "execution_count": null
  },
  {
   "metadata": {
    "ExecuteTime": {
     "end_time": "2024-09-05T19:01:50.056284Z",
     "start_time": "2024-09-05T19:01:50.051376Z"
    }
   },
   "cell_type": "code",
   "source": [
    "# Playing around with k-means\n",
    "\n",
    "# One-hot encode categorical variables\n",
    "merged_df_encoded = pd.get_dummies(merged_df[['VEHICLE_MODEL', 'CUSTOMER_REGION', 'MANUFACTURING_CITY']])\n",
    "\n",
    "# Add numerical columns to the encoded data\n",
    "merged_df_encoded['TOTAL_ISSUES'] = merged_df['TOTAL_ISSUES']\n",
    "merged_df_encoded['ISSUE_RATE'] = merged_df['ISSUE_RATE']\n",
    "\n",
    "# Scale the data\n",
    "scaler = StandardScaler()\n",
    "scaled_data = scaler.fit_transform(merged_df_encoded)"
   ],
   "id": "cad736dec07e14",
   "outputs": [],
   "execution_count": 217
  },
  {
   "metadata": {
    "ExecuteTime": {
     "end_time": "2024-09-05T19:01:50.085192Z",
     "start_time": "2024-09-05T19:01:50.081468Z"
    }
   },
   "cell_type": "code",
   "source": [
    "# Apply k-means with 3 clusters (adjust based on your data)\n",
    "kmeans = KMeans(n_clusters=3, random_state=42)\n",
    "merged_df['CLUSTER'] = kmeans.fit_predict(scaled_data)"
   ],
   "id": "7545bf7c05636749",
   "outputs": [],
   "execution_count": 218
  },
  {
   "metadata": {
    "ExecuteTime": {
     "end_time": "2024-09-05T19:01:50.115999Z",
     "start_time": "2024-09-05T19:01:50.112123Z"
    }
   },
   "cell_type": "code",
   "source": [
    "# Calculate the distance of each point from the closest cluster centroid\n",
    "distances = np.min(kmeans.transform(scaled_data), axis=1)\n",
    "\n",
    "# Define outliers as those with distances beyond the 95th percentile\n",
    "threshold = np.percentile(distances, 95)\n",
    "outliers = merged_df[distances > threshold]\n",
    "\n",
    "# Display outliers\n",
    "print(outliers)"
   ],
   "id": "4564bc518c4ba919",
   "outputs": [
    {
     "name": "stdout",
     "output_type": "stream",
     "text": [
      "   VEHICLE_MODEL CUSTOMER_REGION MANUFACTURING_CITY  TOTAL_ISSUES  \\\n",
      "31           XN7        Americas             Toluca          5882   \n",
      "32           XN7        Americas            Toronto          3578   \n",
      "37           XN7            Asia            Toronto         32894   \n",
      "\n",
      "    VEHICLES_SOLD_COUNT  ISSUE_RATE  Z_SCORE_ISSUES  Z_SCORE_RATE  CLUSTER  \n",
      "31               368430    0.015965       -0.736581     -1.042040        1  \n",
      "32               182371    0.019619       -0.788442     -0.993379        1  \n",
      "37              1001816    0.032834       -0.128566     -0.817409        1  \n"
     ]
    }
   ],
   "execution_count": 219
  },
  {
   "metadata": {
    "ExecuteTime": {
     "end_time": "2024-09-05T19:01:50.212684Z",
     "start_time": "2024-09-05T19:01:50.143464Z"
    }
   },
   "cell_type": "code",
   "source": [
    "# Reduce dimensionality for visualization\n",
    "pca = PCA(n_components=2)\n",
    "reduced_data = pca.fit_transform(scaled_data)\n",
    "\n",
    "plt.scatter(reduced_data[:, 0], reduced_data[:, 1], c=merged_df['CLUSTER'])\n",
    "plt.title('K-Means Clustering')\n",
    "plt.show()"
   ],
   "id": "ca08db36c0329fc9",
   "outputs": [
    {
     "data": {
      "text/plain": [
       "<Figure size 640x480 with 1 Axes>"
      ],
      "image/png": "[encoded data removed]"
     },
     "metadata": {},
     "output_type": "display_data"
    }
   ],
   "execution_count": 220
  },
  {
   "metadata": {
    "ExecuteTime": {
     "end_time": "2024-09-05T19:01:50.242971Z",
     "start_time": "2024-09-05T19:01:50.241285Z"
    }
   },
   "cell_type": "code",
   "source": "### Issues by model, by manufacturing city, by issue category",
   "id": "5e3913f44baf50e2",
   "outputs": [],
   "execution_count": 221
  },
  {
   "metadata": {
    "ExecuteTime": {
     "end_time": "2024-09-05T19:01:50.270909Z",
     "start_time": "2024-09-05T19:01:50.269439Z"
    }
   },
   "cell_type": "code",
   "source": "",
   "id": "dd77a336b43e6fc5",
   "outputs": [],
   "execution_count": null
  },
  {
   "metadata": {
    "ExecuteTime": {
     "end_time": "2024-09-05T19:01:50.299869Z",
     "start_time": "2024-09-05T19:01:50.298138Z"
    }
   },
   "cell_type": "code",
   "source": [
    "#IF I WAS AN EXECUTIVE\n",
    "\n",
    "# what is our overall issue rate? what percentage of vehicles have an issue?\n",
    "# for those that have an issue, is it all the same/ a few components? and/or can they be traced to a certain factory?\n",
    "# what about by model? are some worse than others? Is there a design issue, either causing problems in manufacturing (can check with QC?) or usage?\n",
    "# what about vehicles made in one area but shipped to another - issues in shipping?\n",
    "# failure rate by model\n",
    "# issue rate by factory\n",
    "\n",
    "\n",
    "#no SN so can't assume each issue is a distinct vehicle, some may have multiple"
   ],
   "id": "517b3b4ecc13b86",
   "outputs": [],
   "execution_count": 222
  },
  {
   "metadata": {
    "ExecuteTime": {
     "end_time": "2024-09-05T19:01:50.336587Z",
     "start_time": "2024-09-05T19:01:50.333965Z"
    }
   },
   "cell_type": "code",
   "source": "",
   "id": "20a8594c4efa672b",
   "outputs": [],
   "execution_count": null
  }
 ],
 "metadata": {
  "kernelspec": {
   "display_name": "Python 3",
   "language": "python",
   "name": "python3"
  },
  "language_info": {
   "codemirror_mode": {
    "name": "ipython",
    "version": 2
   },
   "file_extension": ".py",
   "mimetype": "text/x-python",
   "name": "python",
   "nbconvert_exporter": "python",
   "pygments_lexer": "ipython2",
   "version": "2.7.6"
  }
 },
 "nbformat": 4,
 "nbformat_minor": 5
}
